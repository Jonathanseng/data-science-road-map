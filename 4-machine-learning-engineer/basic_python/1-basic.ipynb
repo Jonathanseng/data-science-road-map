{
 "cells": [
  {
   "cell_type": "markdown",
   "id": "82e9042c-cd9f-43d7-a62f-e0026797744b",
   "metadata": {},
   "source": [
    "# Basic Python\n",
    "### Part 1\n",
    "Python from the ground up. Remember in the notebook environment we have documentation (Markdown like this) and `code` in the next cell."
   ]
  },
  {
   "cell_type": "code",
   "execution_count": null,
   "id": "cc97842e-8b29-493f-9bce-921e0a5eee9a",
   "metadata": {},
   "outputs": [],
   "source": [
    "# this is a comment that won't run but the next line will!\n",
    "print(\"hello world\");\n",
    "# below is the output from the code that is run"
   ]
  },
  {
   "cell_type": "code",
   "execution_count": null,
   "id": "80c025c7-a580-4ef2-9800-c12056315342",
   "metadata": {},
   "outputs": [],
   "source": [
    "print(\"hello world again\"); # you can also put comments after the code on the same line"
   ]
  },
  {
   "cell_type": "code",
   "execution_count": null,
   "id": "45c19e37-d32a-4b57-8192-83ade511a76b",
   "metadata": {},
   "outputs": [],
   "source": [
    "\"\"\"\n",
    "you can also have a comments in a block like this.\n",
    "more comments here!!\n",
    "print(\"hello world\"); this won't run becasue it's in a comment block!\n",
    "\"\"\"\n",
    "print(\"hello world a third time\");"
   ]
  },
  {
   "cell_type": "code",
   "execution_count": null,
   "id": "331fd1b6-d8f4-45e1-842c-3bb3b9eea8a8",
   "metadata": {},
   "outputs": [],
   "source": [
    "# sometimes there is output\n",
    "2+2"
   ]
  },
  {
   "cell_type": "code",
   "execution_count": null,
   "id": "759cc26f-6a57-4e2f-86b4-38d599abe881",
   "metadata": {},
   "outputs": [],
   "source": [
    "# sometimes there is no output\n",
    "x = 5"
   ]
  },
  {
   "cell_type": "code",
   "execution_count": null,
   "id": "a4a6ae15-ee82-4402-b089-5d31bc72838e",
   "metadata": {},
   "outputs": [],
   "source": [
    "z"
   ]
  },
  {
   "cell_type": "code",
   "execution_count": null,
   "id": "c944c428-6193-48ec-8830-0838128eb827",
   "metadata": {},
   "outputs": [],
   "source": [
    "# unless you tell it to print it will only display the last result\n",
    "2+2\n",
    "print(\"hello world\");\n",
    "3+3"
   ]
  },
  {
   "cell_type": "code",
   "execution_count": null,
   "id": "c0069f0d-b17d-43fa-ac16-665dc18314c0",
   "metadata": {},
   "outputs": [],
   "source": [
    "# like this\n",
    "print(2+2)\n",
    "print(\"hello world\");\n",
    "print(3+3)"
   ]
  },
  {
   "cell_type": "code",
   "execution_count": null,
   "id": "4f416aeb-4094-444d-acee-0f4b55d48b77",
   "metadata": {},
   "outputs": [],
   "source": [
    "z = 7\n",
    "z # sometimes you get errors as outputs!"
   ]
  },
  {
   "cell_type": "markdown",
   "id": "85b64074-8201-40cb-b50b-11688024b6c1",
   "metadata": {},
   "source": [
    "### Basic Math Operations\n",
    "Keep in mind that in python order of operations works like PEDMAS from back in the day."
   ]
  },
  {
   "cell_type": "code",
   "execution_count": null,
   "id": "8337a82b-e416-4e1a-b566-21a940aebc9c",
   "metadata": {},
   "outputs": [],
   "source": [
    "# add\n",
    "2 + 3"
   ]
  },
  {
   "cell_type": "code",
   "execution_count": null,
   "id": "9cfd911c-2d9f-4d0b-94d6-43975299ebcb",
   "metadata": {},
   "outputs": [],
   "source": [
    "# subract\n",
    "4 - 5.01"
   ]
  },
  {
   "cell_type": "code",
   "execution_count": null,
   "id": "2fcd8526-a11b-4351-899b-96ef2cf98275",
   "metadata": {},
   "outputs": [],
   "source": [
    "# multiply\n",
    "4*5"
   ]
  },
  {
   "cell_type": "code",
   "execution_count": null,
   "id": "63194153-a5f4-4a73-801d-b17bd8661b46",
   "metadata": {},
   "outputs": [],
   "source": [
    "# divide\n",
    "4/20"
   ]
  },
  {
   "cell_type": "code",
   "execution_count": null,
   "id": "c972950f-a31e-433d-b241-aacc5e88ea90",
   "metadata": {},
   "outputs": [],
   "source": [
    "# exponent\n",
    "2 ** 0.5"
   ]
  },
  {
   "cell_type": "code",
   "execution_count": null,
   "id": "01c5e97e-f4db-47f1-8c9a-515639c771e5",
   "metadata": {},
   "outputs": [],
   "source": [
    "# modulus (remainder)\n",
    "30 % 7"
   ]
  },
  {
   "cell_type": "code",
   "execution_count": null,
   "id": "ee5738b3-e52d-4f60-a2cd-aae1df978971",
   "metadata": {},
   "outputs": [],
   "source": [
    "# Integer/floor/quotient\n",
    "\n",
    "30 // 7"
   ]
  },
  {
   "cell_type": "code",
   "execution_count": null,
   "id": "ecc3e0e2-23a7-43b5-9ce7-8281e46acdf1",
   "metadata": {},
   "outputs": [],
   "source": [
    "# order of operations example\n",
    "(4 + 5) * 6"
   ]
  },
  {
   "cell_type": "markdown",
   "id": "289002a1-671a-4ebf-b3f3-91e8ac93de62",
   "metadata": {},
   "source": [
    "### Basic Data Types\n",
    "* strings\n",
    "* integers\n",
    "* floats"
   ]
  },
  {
   "cell_type": "code",
   "execution_count": null,
   "id": "27ac276f-c29c-4a71-ade3-a0015e614bf4",
   "metadata": {},
   "outputs": [],
   "source": [
    "x = 5\n",
    "type(x) # a python command that tells you the data type"
   ]
  },
  {
   "cell_type": "code",
   "execution_count": null,
   "id": "410a1338-6576-4663-9de3-55028581d295",
   "metadata": {},
   "outputs": [],
   "source": [
    "y = '5'\n",
    "type(y)"
   ]
  },
  {
   "cell_type": "code",
   "execution_count": null,
   "id": "9aaeb2cc-2a1c-4e65-9e51-9d5dba650ed8",
   "metadata": {},
   "outputs": [],
   "source": [
    "z = 5.00\n",
    "type(z)"
   ]
  },
  {
   "cell_type": "code",
   "execution_count": null,
   "id": "eb1d9019-6717-48f8-946c-98c5c8c59de0",
   "metadata": {},
   "outputs": [],
   "source": [
    "y = 'core '\n",
    "y1 = 'data science '\n",
    "y2 = 'and machine learning'\n",
    "new  = y + y1 + y2"
   ]
  },
  {
   "cell_type": "code",
   "execution_count": null,
   "id": "67686922-5ca0-4e24-b5fb-53f99778fccd",
   "metadata": {},
   "outputs": [],
   "source": [
    "new"
   ]
  },
  {
   "cell_type": "code",
   "execution_count": null,
   "id": "09818363-5a9f-4eed-9dda-a832f006d688",
   "metadata": {},
   "outputs": [],
   "source": [
    "y * 5"
   ]
  },
  {
   "cell_type": "code",
   "execution_count": null,
   "id": "bf489c86-87b4-445c-bad3-38afd37ec11f",
   "metadata": {},
   "outputs": [],
   "source": [
    "y + '5'"
   ]
  },
  {
   "cell_type": "markdown",
   "id": "525cb0a7-bd43-40e7-9a8e-e4e8e620030a",
   "metadata": {},
   "source": [
    "### Variables\n",
    "Storing values into objects. What to look out for."
   ]
  },
  {
   "cell_type": "code",
   "execution_count": null,
   "id": "80922ef5-7368-4a8e-92a3-dc5a03bfb0eb",
   "metadata": {},
   "outputs": [],
   "source": [
    "x = 5 # x is an object that can 'contain' a value - python figures out the type\n",
    "print(type(x))\n"
   ]
  },
  {
   "cell_type": "code",
   "execution_count": null,
   "id": "8a25f4ff-5d4a-4b0d-b3c4-bfa9c61231a7",
   "metadata": {},
   "outputs": [],
   "source": [
    "x = x + 6 # we can replace or change the value directly\n",
    "print(x)"
   ]
  },
  {
   "cell_type": "code",
   "execution_count": null,
   "id": "0ed07954-594c-468f-a3b3-4eab7e434704",
   "metadata": {},
   "outputs": [],
   "source": [
    "print(X) # variables are case sensitive X is not x"
   ]
  },
  {
   "cell_type": "code",
   "execution_count": null,
   "id": "92a857ea-db94-4e87-9eef-51ef01dfb740",
   "metadata": {},
   "outputs": [],
   "source": [
    "X = 5\n",
    "\n",
    "x + X # we can perform math operations between variables"
   ]
  },
  {
   "cell_type": "markdown",
   "id": "dcc52a63-5a63-45bc-94ba-36fb0a21be14",
   "metadata": {},
   "source": [
    "Some considerations for names"
   ]
  },
  {
   "cell_type": "code",
   "execution_count": null,
   "id": "89301518-7c18-4e70-b73a-f5685494470f",
   "metadata": {},
   "outputs": [],
   "source": [
    "# valid names\n",
    "core_data_science = 'great' # use underscore - snake case\n",
    "coreDataScience = 'really great' # use capitals - camel case\n",
    "coreDataScience1 = 'really really great' # can contain a number\n",
    "_1coreDataScience = 'great with a number' # can start with a character only"
   ]
  },
  {
   "cell_type": "code",
   "execution_count": null,
   "id": "182f062e-51e9-4852-8cca-dbeb6948f59d",
   "metadata": {},
   "outputs": [],
   "source": [
    "# invalid names\n",
    "#core-data-science = 'not great' # can't use hyphens\n",
    "#core data science = 'not really great' # can't use spaces\n",
    "#1coreDataScience = 'also not great' # can't start with a number\n",
    "#coreDataScience$ = 'again also not great' # can't have special characters like $ and others"
   ]
  },
  {
   "cell_type": "markdown",
   "id": "856f82a2-f48f-4e7d-b84b-5af7b99e8645",
   "metadata": {},
   "source": [
    "### Useful built-in functions\n",
    "A few things that are very useful for building programs in python"
   ]
  },
  {
   "cell_type": "code",
   "execution_count": null,
   "id": "55e30216-9781-4e9c-b8fd-60ef67dfcaf4",
   "metadata": {},
   "outputs": [],
   "source": [
    "my_dogs_name = input() # can ask the user (or you!) to enter a value at run time"
   ]
  },
  {
   "cell_type": "code",
   "execution_count": null,
   "id": "6aaee55a-1f68-470c-94a6-111615506f4d",
   "metadata": {},
   "outputs": [],
   "source": [
    "print(\"My dog's name is \" + my_dogs_name)"
   ]
  },
  {
   "cell_type": "code",
   "execution_count": null,
   "id": "99672a7d-23b8-44c0-b794-884e567e4417",
   "metadata": {},
   "outputs": [],
   "source": [
    "len(my_dogs_name) # we can see how many characters there are in a string with len!"
   ]
  },
  {
   "cell_type": "markdown",
   "id": "a1c817d7-c0b7-42af-a22a-6f9217a4a9fe",
   "metadata": {},
   "source": [
    "Coerce variable types"
   ]
  },
  {
   "cell_type": "code",
   "execution_count": null,
   "id": "13f88703-1e8d-4f54-bc4a-672b7b34f956",
   "metadata": {},
   "outputs": [],
   "source": [
    "x = 5\n",
    "type(x)"
   ]
  },
  {
   "cell_type": "code",
   "execution_count": null,
   "id": "d109bdc7-a6b3-4e8e-b5ce-c8d8f74c0392",
   "metadata": {},
   "outputs": [],
   "source": [
    "x = str(x)\n",
    "type(x)"
   ]
  },
  {
   "cell_type": "code",
   "execution_count": null,
   "id": "909efa52-fdf2-40f6-b345-ca7b1a7e954e",
   "metadata": {},
   "outputs": [],
   "source": [
    "print(x + ' is the value of x')"
   ]
  },
  {
   "cell_type": "code",
   "execution_count": null,
   "id": "a2eecac4-38bf-4c16-bab5-ff369787e58b",
   "metadata": {},
   "outputs": [],
   "source": [
    "5 + x"
   ]
  },
  {
   "cell_type": "code",
   "execution_count": null,
   "id": "09f326c3-40ee-4eaa-ae9e-1f13955c1af4",
   "metadata": {},
   "outputs": [],
   "source": [
    "x = int(x)\n",
    "5 + x"
   ]
  },
  {
   "cell_type": "code",
   "execution_count": null,
   "id": "a4f9f087-7201-4ef6-b7fd-b4c23eb33bf6",
   "metadata": {},
   "outputs": [],
   "source": [
    "5.3 + x"
   ]
  },
  {
   "cell_type": "code",
   "execution_count": null,
   "id": "90d38154-0858-433d-a4d6-0a85734382cf",
   "metadata": {},
   "outputs": [],
   "source": [
    "x = float(x)\n",
    "type(x)"
   ]
  },
  {
   "cell_type": "code",
   "execution_count": null,
   "id": "5dbd13db-e9e9-48c6-91ad-cd37c4156be2",
   "metadata": {},
   "outputs": [],
   "source": [
    "# doesn't always work if the variable can't be coerced\n",
    "#int('dog')\n",
    "int('5')"
   ]
  },
  {
   "cell_type": "code",
   "execution_count": null,
   "id": "649750da-cb92-4986-84f4-f496b5de7afa",
   "metadata": {},
   "outputs": [],
   "source": [
    "# however sometimes it works in ways you might not expect - truncates decimals\n",
    "int(100.1)"
   ]
  }
 ],
 "metadata": {
  "kernelspec": {
   "display_name": "Python 3 (ipykernel)",
   "language": "python",
   "name": "python3"
  },
  "language_info": {
   "codemirror_mode": {
    "name": "ipython",
    "version": 3
   },
   "file_extension": ".py",
   "mimetype": "text/x-python",
   "name": "python",
   "nbconvert_exporter": "python",
   "pygments_lexer": "ipython3",
   "version": "3.10.5"
  },
  "toc-autonumbering": false,
  "toc-showcode": false,
  "toc-showmarkdowntxt": false,
  "toc-showtags": false
 },
 "nbformat": 4,
 "nbformat_minor": 5
}
