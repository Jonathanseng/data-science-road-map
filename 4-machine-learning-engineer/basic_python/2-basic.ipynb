{
 "cells": [
  {
   "cell_type": "markdown",
   "id": "6a40b2c6-73ad-4f06-b8a2-a192117f95b6",
   "metadata": {},
   "source": [
    "# Basic Python\n",
    "## Part 2\n",
    "Expanding the simple concepts into some useful programing tools. This all starts with 'flow control.' Python scripts are executed sequentally (from top to bottom) one line of code at a time. As the program is executing one thing at a time we call this 'flow.' You can think of this as what the program is actively doing now. You want to control how the program steps through each of these lines and creates/behaves in the way you want. This process is all based on comparing and checking what the program is producing.\n",
    "\n",
    "### Comparison Operators\n",
    "* == equal to\n",
    "* != not equal to\n",
    "* <, > less than, greater than\n",
    "* <=, >= less than or equal, greater than or equal"
   ]
  },
  {
   "cell_type": "code",
   "execution_count": null,
   "id": "8d0425e8-1f05-4be2-ae64-c804279f2f0a",
   "metadata": {},
   "outputs": [],
   "source": [
    " 5 == 5 # comparison operations result in boolean statements (true/false)"
   ]
  },
  {
   "cell_type": "code",
   "execution_count": null,
   "id": "c1d4016d-c87f-429e-b459-0a920f385fc5",
   "metadata": {},
   "outputs": [],
   "source": [
    "True == False # these boolean statements are special functions"
   ]
  },
  {
   "cell_type": "code",
   "execution_count": null,
   "id": "a6de0c60-194e-4669-b8f2-a42bcd944c15",
   "metadata": {},
   "outputs": [],
   "source": [
    "False == False"
   ]
  },
  {
   "cell_type": "code",
   "execution_count": null,
   "id": "a4bc69bd-ff9b-4adb-93b5-0fd203fe93e9",
   "metadata": {},
   "outputs": [],
   "source": [
    "5 != 6"
   ]
  },
  {
   "cell_type": "code",
   "execution_count": null,
   "id": "9b103f43-918c-45ec-bfc1-29aa1c7c686a",
   "metadata": {},
   "outputs": [],
   "source": [
    "5 < 5"
   ]
  },
  {
   "cell_type": "code",
   "execution_count": null,
   "id": "82e5737e-9288-4872-a266-cf2838679a45",
   "metadata": {},
   "outputs": [],
   "source": [
    "5 <= 5"
   ]
  },
  {
   "cell_type": "code",
   "execution_count": null,
   "id": "c2e52969-cea7-4758-863e-c62633637d05",
   "metadata": {},
   "outputs": [],
   "source": [
    "# can look at strings as well\n",
    "5 == '5'"
   ]
  },
  {
   "cell_type": "code",
   "execution_count": null,
   "id": "71c0779f-16ca-4a1f-baee-2a86283c3975",
   "metadata": {},
   "outputs": [],
   "source": [
    "'5' == '5'"
   ]
  },
  {
   "cell_type": "code",
   "execution_count": null,
   "id": "84a78211-8516-4fbd-9daf-7f10a7db1b57",
   "metadata": {},
   "outputs": [],
   "source": [
    "'dog' != 'cat'"
   ]
  },
  {
   "cell_type": "code",
   "execution_count": null,
   "id": "0dc0a93f-0c6b-4099-8f4c-40dd7984363a",
   "metadata": {},
   "outputs": [],
   "source": [
    "# can also compare numbers of different types\n",
    "5 == 5.00"
   ]
  },
  {
   "cell_type": "code",
   "execution_count": null,
   "id": "bc68b119-a1f4-4397-96cc-a461dfd8abb9",
   "metadata": {},
   "outputs": [],
   "source": [
    "5 == 0005.000"
   ]
  },
  {
   "cell_type": "markdown",
   "id": "df84035f-247b-4133-bed9-3b8ac56fd1c2",
   "metadata": {},
   "source": [
    "### Boolean Operators\n",
    "operators used to compare boolean values:\n",
    "* and\n",
    "* or\n",
    "* not"
   ]
  },
  {
   "cell_type": "code",
   "execution_count": null,
   "id": "a3acc59c-a02e-4cb7-b5be-bbaf32c773a3",
   "metadata": {},
   "outputs": [],
   "source": [
    "True and True"
   ]
  },
  {
   "cell_type": "code",
   "execution_count": null,
   "id": "6fe47b00-3b5c-4712-848b-31b7fdb8b6d1",
   "metadata": {},
   "outputs": [],
   "source": [
    "True and True and False"
   ]
  },
  {
   "cell_type": "code",
   "execution_count": null,
   "id": "7cab691f-b25f-4991-8be1-b65a87982726",
   "metadata": {},
   "outputs": [],
   "source": [
    "True or False"
   ]
  },
  {
   "cell_type": "code",
   "execution_count": null,
   "id": "b63f61c7-fe02-40a2-b997-59da071a86a3",
   "metadata": {},
   "outputs": [],
   "source": [
    "False or False"
   ]
  },
  {
   "cell_type": "code",
   "execution_count": null,
   "id": "e39bd7f7-0ae6-491d-9770-96674b16808b",
   "metadata": {},
   "outputs": [],
   "source": [
    "False or (True and False) # can isolate operations"
   ]
  },
  {
   "cell_type": "code",
   "execution_count": null,
   "id": "b7064957-4334-4fa0-ab7b-bfb604c5ace2",
   "metadata": {},
   "outputs": [],
   "source": [
    "not True"
   ]
  },
  {
   "cell_type": "code",
   "execution_count": null,
   "id": "e62a9919-c6e1-4b96-9cec-48648d3ecfd6",
   "metadata": {},
   "outputs": [],
   "source": [
    "not False"
   ]
  },
  {
   "cell_type": "code",
   "execution_count": null,
   "id": "cf5cd8a3-4986-4b9f-9757-ad0d3e9af049",
   "metadata": {},
   "outputs": [],
   "source": [
    "not (True or False)"
   ]
  },
  {
   "cell_type": "code",
   "execution_count": null,
   "id": "a0d3d8b3-2433-42f1-9d63-9bf2f00cd366",
   "metadata": {},
   "outputs": [],
   "source": [
    "not (False or False)"
   ]
  },
  {
   "cell_type": "markdown",
   "id": "3c0f972c-bbc9-4ff2-a420-3bff3e759129",
   "metadata": {},
   "source": [
    "### Combining Boolean and Comparison Operators"
   ]
  },
  {
   "cell_type": "code",
   "execution_count": null,
   "id": "8aa72a34-7877-4289-9ffd-8fb22f5e4daf",
   "metadata": {},
   "outputs": [],
   "source": [
    "(5 <= 5) and ('dog' != 'cat')"
   ]
  },
  {
   "cell_type": "code",
   "execution_count": null,
   "id": "8db138ea-58fd-4f0e-ba18-0f8ddf918eba",
   "metadata": {},
   "outputs": [],
   "source": [
    "('dog' == 'dog') or (5 < 5)"
   ]
  },
  {
   "cell_type": "code",
   "execution_count": null,
   "id": "1a64a18e-f247-4c67-b32f-afd4c9975d30",
   "metadata": {},
   "outputs": [],
   "source": [
    "5 + 5 == 10 and not 4 + 4 == 9 and 7 + 5 != 10"
   ]
  },
  {
   "cell_type": "markdown",
   "id": "5147ba9b-d410-4f9e-b0c3-53d11181f2b5",
   "metadata": {},
   "source": [
    "### Elements of Control Flow\n",
    "* Conditions - the boolean values\n",
    "* Blocks of code\n",
    "\n",
    "Looking at blocks of code, python seperates blocks using indentation and conditions. when the condition is met the code block is executed. The most basic control flow is the **if** statement"
   ]
  },
  {
   "cell_type": "code",
   "execution_count": 57,
   "id": "5b67048b-4861-44c0-acd8-6d2f4b249d61",
   "metadata": {},
   "outputs": [
    {
     "name": "stdout",
     "output_type": "stream",
     "text": [
      "will print\n",
      "will print again\n",
      "more stuff\n"
     ]
    }
   ],
   "source": [
    "# example code block with if statement\n",
    "x = 5\n",
    "y = 6\n",
    "X = 5\n",
    "\n",
    "if x == y: #start first code block\n",
    "    print(\"won't print\") # this line is part of the block\n",
    "#ends the code bloack\n",
    "if x == X: #starts second code block\n",
    "    print(\"will print\")\n",
    "    if x == y:#starts a block within a block\n",
    "        print(\"won't print again\") #the only line of the block within a block\n",
    "    print(\"will print again\")# back into the second code block\n",
    "print('more stuff')"
   ]
  },
  {
   "cell_type": "markdown",
   "id": "d8bd0aaa-9c0e-4e74-b7b8-32048499da3c",
   "metadata": {},
   "source": [
    " ### if, else, and elif\n",
    " the most common control flow"
   ]
  },
  {
   "cell_type": "code",
   "execution_count": 17,
   "id": "40c073b4-6f45-422b-96a9-6a1376623fe2",
   "metadata": {},
   "outputs": [
    {
     "name": "stdout",
     "output_type": "stream",
     "text": [
      "still more good\n"
     ]
    }
   ],
   "source": [
    "x = 7\n",
    "y = 8\n",
    "z = 9\n",
    "dog = \"dog\"\n",
    "cat = \"cat\"\n",
    "also_dog = \"dog\"\n",
    "\n",
    "if x != 7: #evaluate the logical condition\n",
    "    print(\"good\")\n",
    "elif x == 8:\n",
    "    print(\"still good\")\n",
    "elif dog == also_dog:\n",
    "    print(\"still more good\")\n",
    "else:\n",
    "    print(\"not good\")"
   ]
  },
  {
   "cell_type": "markdown",
   "id": "800b0453-12de-44e3-b91a-3123eb7f4cd3",
   "metadata": {},
   "source": [
    "### while, break, continue\n",
    "more useful control flow"
   ]
  },
  {
   "cell_type": "code",
   "execution_count": 20,
   "id": "044bec8c-d393-42f4-927b-bc8c6fb6b74d",
   "metadata": {},
   "outputs": [
    {
     "name": "stdout",
     "output_type": "stream",
     "text": [
      "7\n",
      "6\n",
      "5\n",
      "4\n",
      "4\n",
      "3\n"
     ]
    }
   ],
   "source": [
    "x = 7\n",
    "while x > 2:\n",
    "    print(x)\n",
    "    if x == 4:\n",
    "        print(x)\n",
    "        x += -1\n",
    "        continue\n",
    "    x += -1 # x = x - 1\n",
    "    "
   ]
  },
  {
   "cell_type": "markdown",
   "id": "7d09bf39-9489-4771-b220-012357881afe",
   "metadata": {},
   "source": [
    "### for loops, range(), and lists\n",
    "the most useful (but slow) loop"
   ]
  },
  {
   "cell_type": "code",
   "execution_count": 31,
   "id": "505df8ed-5621-4282-adcb-2f1b5f2ab3ab",
   "metadata": {},
   "outputs": [
    {
     "name": "stdout",
     "output_type": "stream",
     "text": [
      "5\n",
      "4\n",
      "3\n",
      "2\n",
      "1\n",
      "0\n"
     ]
    }
   ],
   "source": [
    "my_list = [2,3,4]\n",
    "\n",
    "#print(my_list)\n",
    "my_list[0]\n",
    "\n",
    "for i in range(5, -1, -1):\n",
    "    print(i)"
   ]
  },
  {
   "cell_type": "code",
   "execution_count": null,
   "id": "169a7ffb-d890-4d32-82e3-de5f9be45493",
   "metadata": {},
   "outputs": [],
   "source": []
  }
 ],
 "metadata": {
  "kernelspec": {
   "display_name": "Python 3 (ipykernel)",
   "language": "python",
   "name": "python3"
  },
  "language_info": {
   "codemirror_mode": {
    "name": "ipython",
    "version": 3
   },
   "file_extension": ".py",
   "mimetype": "text/x-python",
   "name": "python",
   "nbconvert_exporter": "python",
   "pygments_lexer": "ipython3",
   "version": "3.10.5"
  }
 },
 "nbformat": 4,
 "nbformat_minor": 5
}
