{
 "cells": [
  {
   "cell_type": "markdown",
   "id": "76286b69-b2ea-4ca2-8a73-7a27fb9ea6ec",
   "metadata": {},
   "source": [
    "# Basic Python\n",
    "## Part 3\n",
    "Working in the environment and using other peoples code to speed up your own work.\n",
    "\n",
    "### Importing external modules\n",
    "If you have moduels installed in your enviornment you can import them into your session for use."
   ]
  },
  {
   "cell_type": "code",
   "execution_count": null,
   "id": "014725ef-85a1-4a3f-a627-3f5c36b1b831",
   "metadata": {},
   "outputs": [],
   "source": [
    "import random as rand"
   ]
  },
  {
   "cell_type": "code",
   "execution_count": null,
   "id": "6190dafa-9ac4-41de-9c6a-b29079864276",
   "metadata": {},
   "outputs": [],
   "source": [
    "print(rand.randint(1,10))"
   ]
  },
  {
   "cell_type": "markdown",
   "id": "d3d80a5e-3bdb-4a14-99cb-690b8183e257",
   "metadata": {},
   "source": [
    "### Functions\n",
    "when you don't want to write the same code over and over again make a function. You want your code to be \"DRY\" do not repeat yourself and not \"WET\" write everything twice. "
   ]
  },
  {
   "cell_type": "code",
   "execution_count": null,
   "id": "a30ed157-760d-4b1c-8d40-95f98f3c724d",
   "metadata": {},
   "outputs": [],
   "source": [
    "# functions are declared using the def sort for define statement\n",
    "# functions are defined then used\n",
    "def truth_about_dogs(name):\n",
    "    print(\"more stuff\")\n",
    "    return((name+\" is my dog and the best\"))\n",
    "\n",
    "def truth_about_cats():\n",
    "    return(\"cats are the worst\")"
   ]
  },
  {
   "cell_type": "code",
   "execution_count": null,
   "id": "ecf00fc8-5659-4a76-aa79-b2047e700250",
   "metadata": {},
   "outputs": [],
   "source": [
    "name = input()\n",
    "truth_about_dogs(name)"
   ]
  },
  {
   "cell_type": "markdown",
   "id": "cffb4958-1b62-449c-9376-c9c981a89d01",
   "metadata": {},
   "source": [
    "### Variable Scope\n",
    "Global vs Local"
   ]
  },
  {
   "cell_type": "code",
   "execution_count": null,
   "id": "9f43a8e2-e40f-4646-95e3-2e6f1daac561",
   "metadata": {},
   "outputs": [],
   "source": [
    "my_dog = \"Zara\" #global\n",
    "\n",
    "def truth_about_dogs(name):\n",
    "    return((my_dog + \" is my dog and the best\"))"
   ]
  },
  {
   "cell_type": "code",
   "execution_count": null,
   "id": "ad151329-403f-4b09-b693-472e5e7366a4",
   "metadata": {},
   "outputs": [],
   "source": [
    "truth_about_dogs(\"Zar\")"
   ]
  },
  {
   "cell_type": "markdown",
   "id": "906bf970-aeda-40f7-9b78-431638c078cc",
   "metadata": {},
   "source": [
    "### More on lists\n",
    "lists are a foundational data structure in python with lots of functionaility"
   ]
  },
  {
   "cell_type": "code",
   "execution_count": null,
   "id": "df3197d3-c440-4746-81c9-66854eac89b8",
   "metadata": {},
   "outputs": [],
   "source": [
    "my_list = [\"dog\",\"cat\",3,\"mouse\"]"
   ]
  },
  {
   "cell_type": "code",
   "execution_count": null,
   "id": "7ef9a818-6166-4e01-936a-1bdfa6c35ad9",
   "metadata": {},
   "outputs": [],
   "source": [
    "my_list[-2]"
   ]
  },
  {
   "cell_type": "code",
   "execution_count": null,
   "id": "0b4a644b-1504-4227-a503-b765e16a2e3e",
   "metadata": {},
   "outputs": [],
   "source": [
    "#slice\n",
    "new_list = my_list[0:2]"
   ]
  },
  {
   "cell_type": "code",
   "execution_count": null,
   "id": "a2bee6f6-ec66-4197-a5ee-134713303ea2",
   "metadata": {},
   "outputs": [],
   "source": [
    "new_list"
   ]
  },
  {
   "cell_type": "code",
   "execution_count": null,
   "id": "47392c51-fd0c-420c-b6cb-1ae1b13208bc",
   "metadata": {},
   "outputs": [],
   "source": [
    "len(my_list)"
   ]
  },
  {
   "cell_type": "code",
   "execution_count": null,
   "id": "1534a8af-ddd3-4c30-a537-5d85b85115be",
   "metadata": {},
   "outputs": [],
   "source": [
    "for i in range(len(my_list)):\n",
    "    print(i)"
   ]
  },
  {
   "cell_type": "code",
   "execution_count": null,
   "id": "8cf3a9a1-9940-415e-8cb9-54944c8ac3cd",
   "metadata": {},
   "outputs": [],
   "source": [
    "new_list + my_list"
   ]
  },
  {
   "cell_type": "code",
   "execution_count": null,
   "id": "7918a52c-9d3e-469a-bd0d-ba4204d0ce51",
   "metadata": {},
   "outputs": [],
   "source": [
    "my_list * 4"
   ]
  },
  {
   "cell_type": "code",
   "execution_count": null,
   "id": "44e8f60a-5e61-422d-8f81-b5e548698bb7",
   "metadata": {},
   "outputs": [],
   "source": [
    "del my_list[0]"
   ]
  },
  {
   "cell_type": "code",
   "execution_count": null,
   "id": "ffc1ce43-da34-4de3-8a48-4bcec76c7562",
   "metadata": {},
   "outputs": [],
   "source": [
    "my_list"
   ]
  },
  {
   "cell_type": "markdown",
   "id": "de0d542f-0a14-4543-99b2-5dc8c341adfa",
   "metadata": {},
   "source": [
    "### more about lists"
   ]
  },
  {
   "cell_type": "code",
   "execution_count": null,
   "id": "35b1e95a-fff2-462c-94c8-2b088a9c8707",
   "metadata": {},
   "outputs": [],
   "source": [
    "my_list = [3,4,5,6,7,\"fox\"]"
   ]
  },
  {
   "cell_type": "code",
   "execution_count": null,
   "id": "795deb8b-4d1f-4c61-b589-cc2bd83f18ed",
   "metadata": {},
   "outputs": [],
   "source": [
    "for i in my_list:\n",
    "    print(i)"
   ]
  },
  {
   "cell_type": "code",
   "execution_count": null,
   "id": "87a3c4d2-8869-4fec-adc3-d0744d53b31f",
   "metadata": {},
   "outputs": [],
   "source": [
    "\"fox\" in my_list"
   ]
  },
  {
   "cell_type": "code",
   "execution_count": null,
   "id": "e869bbeb-6c21-49ff-bf84-0aee3ef106ea",
   "metadata": {},
   "outputs": [],
   "source": [
    "\"fox\" not in my_list"
   ]
  },
  {
   "cell_type": "code",
   "execution_count": null,
   "id": "adc67d1e-96ab-44bb-95c4-f78a1e195f0a",
   "metadata": {},
   "outputs": [],
   "source": [
    "short_list = [\"Zara\", \"Devil\"]"
   ]
  },
  {
   "cell_type": "code",
   "execution_count": null,
   "id": "e0a57b3d-2b8d-462e-a17d-6b9c10224917",
   "metadata": {},
   "outputs": [],
   "source": [
    "dog, cat = short_list"
   ]
  },
  {
   "cell_type": "code",
   "execution_count": null,
   "id": "581caed8-0b3c-495f-974b-1c6ffa07018d",
   "metadata": {},
   "outputs": [],
   "source": [
    "dog"
   ]
  },
  {
   "cell_type": "code",
   "execution_count": null,
   "id": "399f8c59-85e6-46ed-b6c8-18d41249833e",
   "metadata": {},
   "outputs": [],
   "source": [
    "cat"
   ]
  },
  {
   "cell_type": "code",
   "execution_count": null,
   "id": "e801397a-8eaf-487b-96a2-8b98c8d66d07",
   "metadata": {},
   "outputs": [],
   "source": [
    "enumerate(my_list)"
   ]
  },
  {
   "cell_type": "code",
   "execution_count": null,
   "id": "84aeeeb6-bcf5-4d69-a8b3-576404504dde",
   "metadata": {},
   "outputs": [],
   "source": [
    "for index, val in enumerate(my_list):\n",
    "    print(str(index) + \":\" + str(val))"
   ]
  },
  {
   "cell_type": "code",
   "execution_count": null,
   "id": "9b7f2db3-329a-4b0c-8bac-e13072b440b8",
   "metadata": {},
   "outputs": [],
   "source": [
    "import random\n",
    "\n",
    "random.choice(my_list)"
   ]
  },
  {
   "cell_type": "code",
   "execution_count": null,
   "id": "8ab25ee9-e36d-465b-ac62-fed79ffc5964",
   "metadata": {},
   "outputs": [],
   "source": [
    "my_list"
   ]
  },
  {
   "cell_type": "code",
   "execution_count": null,
   "id": "b1d55ed4-69cd-4977-b8e2-cc4eee2684ad",
   "metadata": {},
   "outputs": [],
   "source": [
    "random.shuffle(my_list)"
   ]
  },
  {
   "cell_type": "code",
   "execution_count": null,
   "id": "8581b2d1-faa2-4759-9c36-f3484be459d7",
   "metadata": {},
   "outputs": [],
   "source": [
    "my_list"
   ]
  },
  {
   "cell_type": "markdown",
   "id": "0f9fdd18-396a-4bbe-ae7e-053a0ef2c433",
   "metadata": {},
   "source": [
    "### Augmented assignment operators\n",
    "changing a variable based on itslef"
   ]
  },
  {
   "cell_type": "code",
   "execution_count": null,
   "id": "f0c812cc-bee5-4d5a-9d3d-404cefd7122b",
   "metadata": {},
   "outputs": [],
   "source": [
    "x = 5"
   ]
  },
  {
   "cell_type": "code",
   "execution_count": null,
   "id": "aadbf30b-0b39-410e-8804-25b376b7c1e6",
   "metadata": {},
   "outputs": [],
   "source": [
    "x = x + 1"
   ]
  },
  {
   "cell_type": "code",
   "execution_count": null,
   "id": "de6b5d50-18d3-4f10-8a52-dd817dc463f0",
   "metadata": {},
   "outputs": [],
   "source": [
    "x -= 2\n",
    "x"
   ]
  },
  {
   "cell_type": "markdown",
   "id": "cbbc442a-b345-4c8e-b635-88cc99f6138c",
   "metadata": {},
   "source": [
    "### Methods (on lists)\n",
    "Functions that are 'called on' a class or variable. More on classes later."
   ]
  },
  {
   "cell_type": "code",
   "execution_count": null,
   "id": "a3648cc0-80fb-4082-b557-d4f6fb041970",
   "metadata": {},
   "outputs": [],
   "source": [
    "my_list = [3,4,58,63,7]"
   ]
  },
  {
   "cell_type": "code",
   "execution_count": null,
   "id": "6a8ab3cf-8ad2-4a51-b076-083c070ea3ed",
   "metadata": {},
   "outputs": [],
   "source": [
    "my_list.index(\"fox\")"
   ]
  },
  {
   "cell_type": "code",
   "execution_count": null,
   "id": "db58f7a9-a778-4824-9499-9119122cf658",
   "metadata": {},
   "outputs": [],
   "source": [
    "my_list.append(6)"
   ]
  },
  {
   "cell_type": "code",
   "execution_count": null,
   "id": "d0a6c864-d091-418a-a573-de3a1ccd0ae4",
   "metadata": {},
   "outputs": [],
   "source": [
    "my_list"
   ]
  },
  {
   "cell_type": "code",
   "execution_count": null,
   "id": "44f46166-1de9-4a26-8263-a7fb84170943",
   "metadata": {},
   "outputs": [],
   "source": [
    "my_list.insert(3, 'mouse')\n",
    "my_list"
   ]
  },
  {
   "cell_type": "code",
   "execution_count": null,
   "id": "3e3eede3-fd1c-4137-bd03-7569d4dda12e",
   "metadata": {},
   "outputs": [],
   "source": [
    "my_list.remove('mouse')\n",
    "my_list"
   ]
  },
  {
   "cell_type": "code",
   "execution_count": null,
   "id": "002ef7dd-0c02-4210-aec4-5e0648ea2cb5",
   "metadata": {},
   "outputs": [],
   "source": [
    "my_list.sort(reverse = True)\n",
    "my_list"
   ]
  },
  {
   "cell_type": "code",
   "execution_count": null,
   "id": "323c461f-05eb-4104-8cd1-6b9270b48edb",
   "metadata": {},
   "outputs": [],
   "source": [
    "my_list.reverse()\n",
    "my_list"
   ]
  },
  {
   "cell_type": "markdown",
   "id": "ea6dfc5c-9076-4150-b885-426566435ceb",
   "metadata": {},
   "source": [
    "### Dictionaries\n",
    "super flexible data structure for holding and finding anything. Structure based on key-value paris. Think of the keys as names or named indexs and values are any valid python object (variable, list, another dictionary!)"
   ]
  },
  {
   "cell_type": "code",
   "execution_count": null,
   "id": "d43679b8-d63d-413a-9efb-5ad0e6478ccb",
   "metadata": {},
   "outputs": [],
   "source": [
    "my_dict = { 'best' : 'dog', \n",
    "           'worst' : 'cat', \n",
    "           'okay': 'mouse',\n",
    "           'wild_card' : 'pig'\n",
    "          }"
   ]
  },
  {
   "cell_type": "code",
   "execution_count": null,
   "id": "0bdfcf66-e57c-44e6-8523-2b3bf32e1527",
   "metadata": {},
   "outputs": [],
   "source": [
    "my_dict['best'] = 'Zara'\n",
    "my_dict['another-key'] = 'new-key'"
   ]
  },
  {
   "cell_type": "code",
   "execution_count": null,
   "id": "4cc9da6e-4a93-4085-8091-5879b6c88590",
   "metadata": {},
   "outputs": [],
   "source": [
    "my_dict.items()"
   ]
  },
  {
   "cell_type": "code",
   "execution_count": null,
   "id": "3c5c0784-ff3f-4a3a-bcda-df21642a6b9c",
   "metadata": {},
   "outputs": [],
   "source": [
    "my_other_dict = {  'wild_card' : 'pig',\n",
    "                    'best' : 'dog', \n",
    "                   'worst' : 'cat', \n",
    "                   'okay': 'mouse'                  \n",
    "                  }"
   ]
  },
  {
   "cell_type": "code",
   "execution_count": null,
   "id": "add93fba-3ead-4ce8-90c6-3f19897d7dfa",
   "metadata": {},
   "outputs": [],
   "source": [
    "my_dict == my_other_dict"
   ]
  },
  {
   "cell_type": "code",
   "execution_count": null,
   "id": "0d249683-0558-4016-b6ee-7d7e6a71095d",
   "metadata": {},
   "outputs": [],
   "source": [
    "for place, animal in my_dict.items():\n",
    "    print(place + ':' + animal)"
   ]
  },
  {
   "cell_type": "code",
   "execution_count": null,
   "id": "67c3ecf6-ca39-4bc7-80ef-8581b9402ff4",
   "metadata": {},
   "outputs": [],
   "source": [
    "del my_dict['wild_card']"
   ]
  },
  {
   "cell_type": "code",
   "execution_count": null,
   "id": "3b82e673-566e-4a35-ba51-f162efe64838",
   "metadata": {},
   "outputs": [],
   "source": [
    "my_dict.items()"
   ]
  },
  {
   "cell_type": "code",
   "execution_count": null,
   "id": "aaca820d-b241-41b2-8eae-18e2f9ce026a",
   "metadata": {},
   "outputs": [],
   "source": [
    "len(my_dict)"
   ]
  },
  {
   "cell_type": "markdown",
   "id": "91e443f9-9f53-435d-bec4-01240286ce0a",
   "metadata": {},
   "source": [
    "### Classes and Methods\n",
    "The way to package up your code to be used by everyone else... and yourself later."
   ]
  },
  {
   "cell_type": "code",
   "execution_count": null,
   "id": "19fd8d5f-bbda-4565-8087-8efad3b9b72f",
   "metadata": {},
   "outputs": [],
   "source": [
    "from dog import new_dog, lab_dog"
   ]
  },
  {
   "cell_type": "code",
   "execution_count": null,
   "id": "da5a3805-995e-4edd-ba39-8c8f140c90d7",
   "metadata": {},
   "outputs": [],
   "source": [
    "zara_puppy = new_dog('Zara')"
   ]
  },
  {
   "cell_type": "code",
   "execution_count": null,
   "id": "43def080-d9b2-4923-b552-727b2c11d91a",
   "metadata": {},
   "outputs": [],
   "source": [
    "zara_puppy.fetch()"
   ]
  },
  {
   "cell_type": "code",
   "execution_count": null,
   "id": "12b2235b-ffd9-4593-a119-43fb7bfd4792",
   "metadata": {},
   "outputs": [],
   "source": [
    "zara_grown = lab_dog('Zara')"
   ]
  },
  {
   "cell_type": "code",
   "execution_count": null,
   "id": "222961ef-d81c-4104-875c-2faee1fdeed2",
   "metadata": {},
   "outputs": [],
   "source": [
    "zara_grown.retrieve()"
   ]
  },
  {
   "cell_type": "markdown",
   "id": "30288e5c-fe6f-40e5-a53c-54ccce35306e",
   "metadata": {},
   "source": [
    "### Working with files\n",
    "Interacting with files is important in many cases. For files you need to 'open' them with different privlages.\n",
    "\n",
    "* r - read only which is default\n",
    "* w - write\n",
    "* a - append"
   ]
  },
  {
   "cell_type": "code",
   "execution_count": null,
   "id": "eb162741-f949-4865-a888-7603d3b7cc2f",
   "metadata": {},
   "outputs": [],
   "source": [
    "filename = \"my_text.txt\"\n",
    "\n",
    "with open(filename) as file_object:\n",
    "    lines = file_object.readlines()"
   ]
  },
  {
   "cell_type": "code",
   "execution_count": null,
   "id": "7e605940-7ba7-4066-b9d0-67d8ab20b64b",
   "metadata": {},
   "outputs": [],
   "source": [
    "for line in lines:\n",
    "    print(line)"
   ]
  },
  {
   "cell_type": "code",
   "execution_count": null,
   "id": "6cca9720-c703-4c1e-a485-737eb5613c32",
   "metadata": {},
   "outputs": [],
   "source": [
    "filename = \"my_new_text.txt\"\n",
    "\n",
    "with open(filename, 'w') as file_object:\n",
    "    file_object.write('I like dogs the best')"
   ]
  },
  {
   "cell_type": "code",
   "execution_count": null,
   "id": "4696052a-2eb3-4616-aded-4eac84615433",
   "metadata": {},
   "outputs": [],
   "source": [
    "filename = \"my_new_text.txt\"\n",
    "\n",
    "with open(filename, 'a') as file_object:\n",
    "    file_object.write('\\nI like cats the least')"
   ]
  }
 ],
 "metadata": {
  "kernelspec": {
   "display_name": "Python 3 (ipykernel)",
   "language": "python",
   "name": "python3"
  },
  "language_info": {
   "codemirror_mode": {
    "name": "ipython",
    "version": 3
   },
   "file_extension": ".py",
   "mimetype": "text/x-python",
   "name": "python",
   "nbconvert_exporter": "python",
   "pygments_lexer": "ipython3",
   "version": "3.10.5"
  }
 },
 "nbformat": 4,
 "nbformat_minor": 5
}
