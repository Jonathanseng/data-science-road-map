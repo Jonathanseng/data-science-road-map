{
 "cells": [
  {
   "cell_type": "markdown",
   "id": "d471fa6c-b0ca-4cb7-92db-46f703222a31",
   "metadata": {},
   "source": [
    "# Intermediate Python\n",
    "Using common data science libraries\n",
    "\n",
    "### Numpy\n",
    "The fast package for mathmatical operations."
   ]
  },
  {
   "cell_type": "code",
   "execution_count": null,
   "id": "78d3919f-0136-4277-a00d-7ae593f8e95d",
   "metadata": {},
   "outputs": [],
   "source": [
    "import numpy as np\n",
    "\n",
    "A = np.array([[1, 1, 1], \n",
    "              [6, 4, 5],\n",
    "              [5, 2, 2]])\n",
    "\n",
    "b = np.array([2, 31, 13])\n"
   ]
  },
  {
   "cell_type": "code",
   "execution_count": null,
   "id": "cd2643de-8f1f-4a4f-93bf-6fa96c9b17fa",
   "metadata": {},
   "outputs": [],
   "source": [
    "print(A)\n",
    "print(A.shape)\n",
    "print(b.dtype)"
   ]
  },
  {
   "cell_type": "code",
   "execution_count": null,
   "id": "87f15081-8eab-4065-a0ad-9ea3887712b4",
   "metadata": {},
   "outputs": [],
   "source": [
    "A + A"
   ]
  },
  {
   "cell_type": "code",
   "execution_count": null,
   "id": "d559a819-3b25-4ae8-847e-9b3cc85b8c02",
   "metadata": {},
   "outputs": [],
   "source": [
    "A - A"
   ]
  },
  {
   "cell_type": "code",
   "execution_count": null,
   "id": "105cb04e-e458-4e69-96dc-796f713b4cb0",
   "metadata": {},
   "outputs": [],
   "source": [
    "A * 2"
   ]
  },
  {
   "cell_type": "code",
   "execution_count": null,
   "id": "f9200c99-9012-40d4-b311-906eb7a9f255",
   "metadata": {},
   "outputs": [],
   "source": [
    "x = np.linalg.solve(A, b)\n",
    "x"
   ]
  },
  {
   "cell_type": "markdown",
   "id": "7d586746-6192-4b6c-9059-fb93ba8c3975",
   "metadata": {},
   "source": [
    "Consider the performance at some scale"
   ]
  },
  {
   "cell_type": "code",
   "execution_count": null,
   "id": "a7073dd1-84d1-432a-b5ca-d90d6cbb985b",
   "metadata": {},
   "outputs": [],
   "source": [
    "#create two objects for comparison one numpy the other a list\n",
    "my_arr = np.arange(1_000_000)\n",
    "\n",
    "my_list = list(range(1_000_000))"
   ]
  },
  {
   "cell_type": "code",
   "execution_count": null,
   "id": "748118f6-2fee-4b31-a996-1a87facd6da3",
   "metadata": {},
   "outputs": [],
   "source": [
    "# multiply by a scalar\n",
    "%timeit my_arr2 = my_arr * 2"
   ]
  },
  {
   "cell_type": "code",
   "execution_count": null,
   "id": "2d712229-5af7-403e-b410-8f000d9cae71",
   "metadata": {},
   "outputs": [],
   "source": [
    "%timeit my_list2 = [x * 2 for x in my_list]"
   ]
  },
  {
   "cell_type": "markdown",
   "id": "cf4632c6-71a3-4a74-9f2a-0d640f148813",
   "metadata": {},
   "source": [
    "Much faster!! "
   ]
  },
  {
   "cell_type": "code",
   "execution_count": null,
   "id": "0d167d89-a051-4fe5-8d25-c1a7f2b41cf8",
   "metadata": {},
   "outputs": [],
   "source": [
    "zeros = np.zeros((10,5))\n",
    "zeros"
   ]
  },
  {
   "cell_type": "code",
   "execution_count": null,
   "id": "2cb7439f-c878-4a15-8778-1caec54f8b13",
   "metadata": {},
   "outputs": [],
   "source": [
    "ones = np.ones((10,5))\n",
    "ones"
   ]
  },
  {
   "cell_type": "code",
   "execution_count": null,
   "id": "45d73f56-9de7-473b-84f3-96783ba8b584",
   "metadata": {},
   "outputs": [],
   "source": [
    "empty = np.empty((10,5))\n",
    "empty"
   ]
  },
  {
   "cell_type": "markdown",
   "id": "71289dcc-8c43-4950-8d6a-c0dbc1182e75",
   "metadata": {},
   "source": [
    "### Indexing and Slicing"
   ]
  },
  {
   "cell_type": "code",
   "execution_count": null,
   "id": "13d99f7e-7f43-43cc-8226-16d013c9ae87",
   "metadata": {},
   "outputs": [],
   "source": [
    "my_array = np.arange(15)"
   ]
  },
  {
   "cell_type": "code",
   "execution_count": null,
   "id": "4e0bb508-f953-438d-854c-a50f52b51049",
   "metadata": {},
   "outputs": [],
   "source": [
    "my_array"
   ]
  },
  {
   "cell_type": "code",
   "execution_count": null,
   "id": "60049772-b2dc-4b7a-bc1e-16e02a17218d",
   "metadata": {},
   "outputs": [],
   "source": [
    "my_array[0:7]"
   ]
  },
  {
   "cell_type": "code",
   "execution_count": null,
   "id": "11ea63d5-f432-4671-b46d-55db11583985",
   "metadata": {},
   "outputs": [],
   "source": [
    "my_array[9:11] = 34\n",
    "my_array"
   ]
  },
  {
   "cell_type": "markdown",
   "id": "6476333e-7852-458e-aeb0-40e46fa2d6ea",
   "metadata": {},
   "source": [
    "Careful with slices as they point back to the orignial data! This is called a **view**."
   ]
  },
  {
   "cell_type": "code",
   "execution_count": null,
   "id": "7404d540-fa17-473f-abab-2f90ba8c5734",
   "metadata": {},
   "outputs": [],
   "source": [
    "my_slice = my_array[0:2]\n",
    "my_slice[0] = 101\n",
    "my_array"
   ]
  },
  {
   "cell_type": "code",
   "execution_count": null,
   "id": "e5f32f85-7c4c-492f-ad7f-6fb526045770",
   "metadata": {},
   "outputs": [],
   "source": [
    "#can force a hard copy with .copy()\n",
    "my_slice = my_array[0:2].copy()\n",
    "my_slice[0] = 201\n",
    "print(my_array)\n",
    "print(my_slice)"
   ]
  },
  {
   "cell_type": "code",
   "execution_count": null,
   "id": "d100eb9e-5ff2-4923-9d33-947f273f746d",
   "metadata": {},
   "outputs": [],
   "source": [
    "my_array[4:] = 9\n",
    "my_array[:]"
   ]
  },
  {
   "cell_type": "markdown",
   "id": "8f1e034e-591a-4042-ac1d-171be4d2d122",
   "metadata": {},
   "source": [
    "slicing 2d arrays"
   ]
  },
  {
   "cell_type": "code",
   "execution_count": null,
   "id": "860f665f-b6c7-462a-b6dc-12d84fb4fd0e",
   "metadata": {},
   "outputs": [],
   "source": [
    "A = np.array([[1, 1, 1], \n",
    "              [6, 4, 5],\n",
    "              [5, 2, 2]])\n",
    "\n",
    "A_slice = A[:2,2:] #the :2 includes everything before the slice can also do 2: everything after the slice\n",
    "A_slice"
   ]
  },
  {
   "cell_type": "markdown",
   "id": "e8dd9a17-2f84-46b3-8ba0-6449fa0afa98",
   "metadata": {},
   "source": [
    "### Boolean Indexing"
   ]
  },
  {
   "cell_type": "code",
   "execution_count": null,
   "id": "39f2e202-8d0b-4eab-baf2-147055c0c548",
   "metadata": {},
   "outputs": [],
   "source": [
    "animals = np.array([\"dog\", \"cat\", \"mouse\", \"dog\", \"cat\", \"pig\", \"fish\"])\n",
    "\n",
    "rel_data = np.array([[5, 6], [9, 2], [3, 8], [7, 5], [3, 2], [-1, -40], [35, 42]])"
   ]
  },
  {
   "cell_type": "code",
   "execution_count": null,
   "id": "c58b808f-a0b8-4842-b542-7718fa07aa5a",
   "metadata": {},
   "outputs": [],
   "source": [
    "rel_data.shape"
   ]
  },
  {
   "cell_type": "code",
   "execution_count": null,
   "id": "fc4f5ec6-b57a-4b4d-83e1-c5538fedd10d",
   "metadata": {},
   "outputs": [],
   "source": [
    "animals == \"dog\""
   ]
  },
  {
   "cell_type": "code",
   "execution_count": null,
   "id": "39530988-13d2-4da9-a673-74aa273d2e99",
   "metadata": {},
   "outputs": [],
   "source": [
    "rel_data[animals != \"dog\",:1] = 54\n",
    "rel_data"
   ]
  },
  {
   "cell_type": "markdown",
   "id": "1e9cdb5d-f668-485d-8f02-e1c41a0dac69",
   "metadata": {},
   "source": [
    "### Reshaping and Transposing"
   ]
  },
  {
   "cell_type": "code",
   "execution_count": null,
   "id": "dcfa88d9-5961-4163-bc0a-7d37c1d942b4",
   "metadata": {},
   "outputs": [],
   "source": [
    "my_reshape_array = np.arange(20).reshape((4, 5))\n",
    "my_reshape_array"
   ]
  },
  {
   "cell_type": "code",
   "execution_count": null,
   "id": "b3167f60-a4a7-4ae3-b1e8-754c18a4dac8",
   "metadata": {},
   "outputs": [],
   "source": [
    "my_reshape_array.T"
   ]
  },
  {
   "cell_type": "markdown",
   "id": "f2903cdb-c01c-4a6f-890a-46941258e13f",
   "metadata": {},
   "source": [
    "### Pseudorandom Number Gernation"
   ]
  },
  {
   "cell_type": "code",
   "execution_count": null,
   "id": "d5622bfe-62ed-4d86-a66a-4f1ef9fea080",
   "metadata": {},
   "outputs": [],
   "source": [
    "norm_sample = np.random.standard_normal(size = (5, 5))\n",
    "norm_sample"
   ]
  },
  {
   "cell_type": "code",
   "execution_count": null,
   "id": "d7e90400-1707-445f-ae18-7faf5ee12129",
   "metadata": {},
   "outputs": [],
   "source": [
    "# can set a seed which makes the pesudorandom process start at the same place everytime\n",
    "rng = np.random.default_rng(seed=12345)\n",
    "norm_sample_same_every_time = rng.standard_normal(size = (5,5))\n",
    "norm_sample_same_every_time"
   ]
  },
  {
   "cell_type": "code",
   "execution_count": null,
   "id": "009751a1-ea1a-464c-866c-a0393f20c5d8",
   "metadata": {},
   "outputs": [],
   "source": [
    "#np.random."
   ]
  },
  {
   "cell_type": "markdown",
   "id": "55428087-a940-4553-a636-1cd4802972b8",
   "metadata": {},
   "source": [
    "### Unary and Binary universal functions\n",
    "functions that operate on the element basis"
   ]
  },
  {
   "cell_type": "code",
   "execution_count": null,
   "id": "0e255a1e-f3ef-4e8a-8432-7e3ee3f7b24d",
   "metadata": {},
   "outputs": [],
   "source": [
    "a_data = np.array([[5, 6], [9, 2], [3, 8], [7, 5], [3, 2], [1, 40], [35, 42]])\n",
    "b_data = np.array([[4, 7], [11, 3], [5, 6], [7, 56], [13, 2], [0, -40], [35, 42]])"
   ]
  },
  {
   "cell_type": "code",
   "execution_count": null,
   "id": "f175f292-8a41-4618-bd53-974a14e502c2",
   "metadata": {},
   "outputs": [],
   "source": [
    "np.sqrt(a_data)"
   ]
  },
  {
   "cell_type": "code",
   "execution_count": null,
   "id": "a2087aac-1067-4339-a46f-8205b4ee79ca",
   "metadata": {},
   "outputs": [],
   "source": [
    "np.abs(b_data)"
   ]
  },
  {
   "cell_type": "code",
   "execution_count": null,
   "id": "f54105ff-c246-4460-976e-81e97fb9985e",
   "metadata": {},
   "outputs": [],
   "source": [
    "np.multiply(a_data, b_data)"
   ]
  },
  {
   "cell_type": "markdown",
   "id": "d39916c4-d673-465d-a349-73ba4e38c7b8",
   "metadata": {},
   "source": [
    "### Aggregae Functions"
   ]
  },
  {
   "cell_type": "code",
   "execution_count": null,
   "id": "e03229b5-2df8-4a21-bb4a-0663a2118d30",
   "metadata": {},
   "outputs": [],
   "source": [
    "a_data = np.array([[5, 6], [9, 2], [3, 8], [7, 5], [3, 2], [1, 40], [35, 42]])"
   ]
  },
  {
   "cell_type": "code",
   "execution_count": null,
   "id": "12a5d6ae-bafe-42ea-8e7b-98622dab5c24",
   "metadata": {},
   "outputs": [],
   "source": [
    "a_data[:1].sum()"
   ]
  },
  {
   "cell_type": "code",
   "execution_count": null,
   "id": "3e7b62a9-9f39-470d-afe3-67da5fdca566",
   "metadata": {},
   "outputs": [],
   "source": [
    "a_data.min()"
   ]
  },
  {
   "cell_type": "code",
   "execution_count": null,
   "id": "bcf35ca2-a74b-4468-bb1c-15d536e1ea54",
   "metadata": {},
   "outputs": [],
   "source": [
    "a_data.max()"
   ]
  },
  {
   "cell_type": "code",
   "execution_count": null,
   "id": "71ecd77f-a250-4171-8d11-e528f99fbf70",
   "metadata": {},
   "outputs": [],
   "source": [
    "a_data.cumsum(axis=1)"
   ]
  },
  {
   "cell_type": "code",
   "execution_count": null,
   "id": "f5988310-e4af-4c0f-a46a-80e3dc5edd11",
   "metadata": {},
   "outputs": [],
   "source": [
    "a_data.mean()"
   ]
  },
  {
   "cell_type": "code",
   "execution_count": null,
   "id": "99f26c97-d326-48c2-96f9-f97bc173a117",
   "metadata": {},
   "outputs": [],
   "source": [
    "a_data.std()"
   ]
  },
  {
   "cell_type": "code",
   "execution_count": null,
   "id": "6bbf0365-26b9-4a36-acbf-ccf163a2221e",
   "metadata": {},
   "outputs": [],
   "source": [
    "np.corrcoef(a_data)"
   ]
  },
  {
   "cell_type": "markdown",
   "id": "442c3081-ee2f-4064-9d24-c6ec17bd3d4c",
   "metadata": {},
   "source": [
    "### Saving and Loading on Disk"
   ]
  },
  {
   "cell_type": "code",
   "execution_count": 104,
   "id": "2ea53d59-432f-43f1-a510-941013dc1a57",
   "metadata": {},
   "outputs": [],
   "source": [
    "np.save('my_array', a_data)"
   ]
  },
  {
   "cell_type": "code",
   "execution_count": 105,
   "id": "aefe5a23-ddc4-4d2a-8d11-9eac63e71fda",
   "metadata": {},
   "outputs": [],
   "source": [
    "np.savez('two_arrays', a_data, b_data) #compress multiple arrays into one file"
   ]
  },
  {
   "cell_type": "code",
   "execution_count": 108,
   "id": "f01e451e-c7a5-4a2f-96c4-b8c450fda32c",
   "metadata": {},
   "outputs": [
    {
     "data": {
      "text/plain": [
       "<numpy.lib.npyio.NpzFile at 0x7f1fe498dc90>"
      ]
     },
     "execution_count": 108,
     "metadata": {},
     "output_type": "execute_result"
    }
   ],
   "source": [
    "np.load('two_arrays.npz')"
   ]
  },
  {
   "cell_type": "code",
   "execution_count": null,
   "id": "b490796f-2c7b-4da9-8196-3e4168b4a479",
   "metadata": {},
   "outputs": [],
   "source": []
  }
 ],
 "metadata": {
  "kernelspec": {
   "display_name": "Python 3 (ipykernel)",
   "language": "python",
   "name": "python3"
  },
  "language_info": {
   "codemirror_mode": {
    "name": "ipython",
    "version": 3
   },
   "file_extension": ".py",
   "mimetype": "text/x-python",
   "name": "python",
   "nbconvert_exporter": "python",
   "pygments_lexer": "ipython3",
   "version": "3.10.5"
  }
 },
 "nbformat": 4,
 "nbformat_minor": 5
}
