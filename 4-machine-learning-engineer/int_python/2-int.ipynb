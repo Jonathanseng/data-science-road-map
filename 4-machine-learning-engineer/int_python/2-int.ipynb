{
 "cells": [
  {
   "cell_type": "markdown",
   "id": "5b0ce217-64b1-47cd-a9b2-6a718e14b4cd",
   "metadata": {},
   "source": [
    "# Intermediate Python\n",
    "Using common data science libraries\n",
    "\n",
    "### Pandas\n",
    "Pandas is one of the most useful packages becasuse it combines the speed of numpy with flexibility of data types. It behaves very similar to numpy in data manipulation with some differences we will cover. There are two primary reasons to use pandas\n",
    "\n",
    "* Tabluar data (the kind we care about)\n",
    "* heterogeneous data (columns can contain different data types)"
   ]
  },
  {
   "cell_type": "code",
   "execution_count": null,
   "id": "361bc32c-4cc7-4b8a-a14b-50b2af136309",
   "metadata": {},
   "outputs": [],
   "source": [
    "# There are two pimary data strcutres in pandas Series and DataFrames\n",
    "import pandas as pd\n",
    "import numpy as np\n",
    "\n",
    "# Series are one-dimensional array's\n",
    "pandas_series = pd.Series([2,6,8,9], index = [4,5,6,7])\n",
    "pandas_series"
   ]
  },
  {
   "cell_type": "code",
   "execution_count": null,
   "id": "81c81c16-edfd-452e-b6c8-54422170d2e4",
   "metadata": {},
   "outputs": [],
   "source": [
    "pandas_series.array "
   ]
  },
  {
   "cell_type": "markdown",
   "id": "81b47fe3-368d-4d26-9976-84ae8d51eedf",
   "metadata": {},
   "source": [
    "A series is very similar to a dictionary but it is ordered. You can create a Sereies by passing a dictionary or convert to a dictionary using `to_dict()` method."
   ]
  },
  {
   "cell_type": "code",
   "execution_count": null,
   "id": "7f831802-de84-4547-90d5-77e67313e97e",
   "metadata": {},
   "outputs": [],
   "source": [
    "# DataFrame is the most common pandas data strcture\n",
    "animals = {\"type\": [\"dog\", \"cat\", \"fish\", \"mouse\"],\n",
    "        \"good\": [\"very good\", \"the worst\", \"okay\", \"okay\"],\n",
    "        \"weight\": [40, 4, .5, .05]}\n",
    "\n",
    "df_animals = pd.DataFrame(animals)\n",
    "df_animals"
   ]
  },
  {
   "cell_type": "markdown",
   "id": "60c54b6b-026a-42ec-8ee1-3fe8e4b02f97",
   "metadata": {},
   "source": [
    "### Loading data into pandas\n",
    "You have lots of options to do this! Here are some of the most common:\n",
    "\n",
    "* `read_csv`\n",
    "* `read_excel`\n",
    "* `read_html`\n",
    "* `read_json`\n",
    "* `read_xml`\n",
    "* `read_sql` / `read_sql_table`\n",
    "\n",
    "So you can read in text files, spreadsheet, webdata, and databases among many others. So to get started you can go and get data from one of a number of sources.\n",
    "\n",
    "* kaggle.com/datasets\n",
    "* data.gov\n",
    "* https://github.com/awesomedata/awesome-public-datasets"
   ]
  },
  {
   "cell_type": "code",
   "execution_count": null,
   "id": "93ae7b0e-f1d7-4d44-bdb1-c1fa2361b5f1",
   "metadata": {},
   "outputs": [],
   "source": [
    "#lets read our first dataset\n",
    "df_train = pd.read_csv('data/train.csv')\n",
    "\n",
    "print(df_train.shape)\n",
    "df_train.describe()"
   ]
  },
  {
   "cell_type": "markdown",
   "id": "0c886f75-03da-4ded-932d-257a8be9f57b",
   "metadata": {},
   "source": [
    "### Exploring the data\n",
    "Some basic exploration concepts"
   ]
  },
  {
   "cell_type": "code",
   "execution_count": null,
   "id": "06bdd09e-409c-4b15-9000-b940404f4346",
   "metadata": {},
   "outputs": [],
   "source": [
    "df_train.head(3)"
   ]
  },
  {
   "cell_type": "code",
   "execution_count": null,
   "id": "0c15978c-03f6-4b36-aef0-942f9b64639c",
   "metadata": {},
   "outputs": [],
   "source": [
    "df_train.tail(10)"
   ]
  },
  {
   "cell_type": "code",
   "execution_count": null,
   "id": "c7415a05-119e-4ab7-98cd-4f59f4c22d3f",
   "metadata": {},
   "outputs": [],
   "source": [
    "# can access a single column\n",
    "df_train.Survived.head()"
   ]
  },
  {
   "cell_type": "code",
   "execution_count": null,
   "id": "e58f7ac9-ba0d-455c-b1bf-864359af0ae4",
   "metadata": {},
   "outputs": [],
   "source": [
    "df_train[\"Survived\"].tail()"
   ]
  },
  {
   "cell_type": "code",
   "execution_count": null,
   "id": "8210ca4e-bffb-499b-b81c-a60a50136628",
   "metadata": {},
   "outputs": [],
   "source": [
    "#can create a new column and assign values\n",
    "df_train[\"new_column\"] = \"just adding stuff\"\n",
    "df_train.head()"
   ]
  },
  {
   "cell_type": "code",
   "execution_count": null,
   "id": "1ca95ef6-769e-4ec5-ad52-1e572c31035a",
   "metadata": {},
   "outputs": [],
   "source": [
    "# can access rows using index with loc and iloc\n",
    "df_train.iloc[:3] #for integer-based indexing"
   ]
  },
  {
   "cell_type": "code",
   "execution_count": null,
   "id": "97ee384f-d555-49ff-9194-da97f9f1dc4b",
   "metadata": {},
   "outputs": [],
   "source": [
    "df_train.dtypes"
   ]
  },
  {
   "cell_type": "code",
   "execution_count": null,
   "id": "d01dc008-493c-428f-8da5-5545640ea4da",
   "metadata": {},
   "outputs": [],
   "source": [
    "df_train[\"PassengerId\"] = df_train[\"PassengerId\"].astype(str)\n",
    "\n",
    "df_train[\"new_index\"] = df_train.Sex + df_train.PassengerId\n",
    "df_train = df_train.set_index(\"new_index\")\n",
    "df_train.head()"
   ]
  },
  {
   "cell_type": "code",
   "execution_count": null,
   "id": "8da9b254-e870-4681-bae0-cba6bd026898",
   "metadata": {},
   "outputs": [],
   "source": [
    "df_train.loc['male5'] #or iloc"
   ]
  },
  {
   "cell_type": "code",
   "execution_count": null,
   "id": "231bc35b-fb05-4163-8696-15d217427cbe",
   "metadata": {},
   "outputs": [],
   "source": [
    "df_train.iat[0,3] #access/update single value by index"
   ]
  },
  {
   "cell_type": "code",
   "execution_count": null,
   "id": "7b4de7e7-cbc9-42cc-a5d2-477eef493062",
   "metadata": {},
   "outputs": [],
   "source": [
    "df_train.at['male5','Fare'] = 90#access single value by label"
   ]
  },
  {
   "cell_type": "markdown",
   "id": "833e22fe-73c0-45d7-8b9c-8ab5205fe3c3",
   "metadata": {},
   "source": [
    "### Reshaping Data\n",
    "We just saw how we can manipulate the index here are some other useful methods"
   ]
  },
  {
   "cell_type": "code",
   "execution_count": null,
   "id": "9fdfffbd-72f2-4446-90ac-64a8184d7299",
   "metadata": {},
   "outputs": [],
   "source": [
    "df_train.head()"
   ]
  },
  {
   "cell_type": "code",
   "execution_count": null,
   "id": "d83cbae9-0311-4db2-bd55-188926bf187d",
   "metadata": {},
   "outputs": [],
   "source": [
    "df_train.sort_index().head()"
   ]
  },
  {
   "cell_type": "code",
   "execution_count": null,
   "id": "d2fd21d7-d61b-4c64-aa07-0c107a215589",
   "metadata": {},
   "outputs": [],
   "source": [
    "# reseting index\n",
    "df_train = df_train.reset_index()\n",
    "df_train.head()"
   ]
  },
  {
   "cell_type": "code",
   "execution_count": null,
   "id": "355a686f-f308-4115-aba8-fb57556506ed",
   "metadata": {},
   "outputs": [],
   "source": [
    "df_train.sort_values(\"Fare\", ascending = False).head()"
   ]
  },
  {
   "cell_type": "code",
   "execution_count": null,
   "id": "b48bde23-020f-4a7e-bf59-0d7b0c320f5e",
   "metadata": {},
   "outputs": [],
   "source": [
    "# We need to clean this up!\n",
    "df_train.head()"
   ]
  },
  {
   "cell_type": "code",
   "execution_count": null,
   "id": "e563a7af-dd60-454b-bf12-f2a5355f34dc",
   "metadata": {},
   "outputs": [],
   "source": [
    "df_train.drop(columns=['index'], inplace=True)\n",
    "df_train.head()"
   ]
  },
  {
   "cell_type": "markdown",
   "id": "22c39275-9e45-4c16-bf56-8d00d65612f4",
   "metadata": {},
   "source": [
    "You can combine dataframes using concat"
   ]
  },
  {
   "cell_type": "code",
   "execution_count": null,
   "id": "3fe5d47d-38ab-49ab-9a91-7da1dc35e842",
   "metadata": {},
   "outputs": [],
   "source": [
    "df_1 = df_train.sample(frac = .25) # method to subset data randomly\n",
    "df_2 = df_train.sample(n = 80)\n",
    "\n",
    "print(df_1.shape)\n",
    "print(df_2.shape)"
   ]
  },
  {
   "cell_type": "code",
   "execution_count": null,
   "id": "193440da-4502-4563-ba4b-fc67266e548a",
   "metadata": {},
   "outputs": [],
   "source": [
    "df_new = pd.concat([df_1, df_2]) #combine dataframes by column if colmns are the same can do same for \n",
    "                                 #rows with .concat([],axis = 1)\n",
    "\n",
    "print(df_new.shape)\n",
    "df_new.head(3)"
   ]
  },
  {
   "cell_type": "code",
   "execution_count": null,
   "id": "6b2b519c-0de2-4e7b-bc2c-099048755fbc",
   "metadata": {},
   "outputs": [],
   "source": [
    "#rename columns\n",
    "df_train.rename(columns = {\"Pclass\":\"passenger_class\"})"
   ]
  },
  {
   "cell_type": "markdown",
   "id": "596efa42-ccc2-4cf6-8fd0-970ce6a058e6",
   "metadata": {},
   "source": [
    "### Subseting \n",
    "Getting subsets of our data by column"
   ]
  },
  {
   "cell_type": "code",
   "execution_count": null,
   "id": "984d1656-3855-4625-bf94-1fffa98d0d9b",
   "metadata": {},
   "outputs": [],
   "source": [
    "df_train[df_train.Fare > 40].shape"
   ]
  },
  {
   "cell_type": "code",
   "execution_count": null,
   "id": "4e4040bd-60a5-4ec6-8c35-2e0f7aa87a92",
   "metadata": {},
   "outputs": [],
   "source": [
    "# can do multi conditions this way as well\n",
    "df_train[(df_train.Fare > 40) & (df_train.Sex == 'male')].shape"
   ]
  },
  {
   "cell_type": "code",
   "execution_count": null,
   "id": "13b5ee3a-298b-4d35-bf4a-cda8f6bae7a0",
   "metadata": {},
   "outputs": [],
   "source": [
    "# subseting mulitple columns\n",
    "df_less_columns = df_train[[\"Sex\",\"Survived\"]]\n",
    "df_less_columns.head()"
   ]
  },
  {
   "cell_type": "markdown",
   "id": "4054df7b-9540-4d21-8170-dd25780008b9",
   "metadata": {},
   "source": [
    "The most flexible method for boolean expressions is **query** which uses normal python syntax"
   ]
  },
  {
   "cell_type": "code",
   "execution_count": null,
   "id": "e0f5a41c-5866-47fa-aada-c9459aa39a2e",
   "metadata": {},
   "outputs": [],
   "source": [
    "df_train.query(\"Sex == 'male' and Survived == 1 and Fare > 40\").shape"
   ]
  },
  {
   "cell_type": "markdown",
   "id": "7c91c571-038d-46ec-87ce-507dd8c39901",
   "metadata": {},
   "source": [
    "Combining these approahes you can **chain** many methods together for ease of reading"
   ]
  },
  {
   "cell_type": "code",
   "execution_count": null,
   "id": "0820c13e-485f-4749-b2d3-da6d4da54414",
   "metadata": {},
   "outputs": [],
   "source": [
    "(df_train.query(\"Sex == 'male'\")\n",
    " .rename(columns = {\"Pclass\":\"passenger_class\"})\n",
    " .shape)"
   ]
  },
  {
   "cell_type": "markdown",
   "id": "5c841f54-c393-43bd-89e2-b8160b9bfd44",
   "metadata": {},
   "source": [
    "you can use loc and iloc to subset by rows and columns *at the same time*"
   ]
  },
  {
   "cell_type": "code",
   "execution_count": null,
   "id": "e8dedc42-14bb-4fb5-a341-b4549d7f7441",
   "metadata": {},
   "outputs": [],
   "source": [
    "df_train.iloc[:3,:3] #all the same conventions as numpy"
   ]
  },
  {
   "cell_type": "markdown",
   "id": "8911fd7a-8e0b-42cd-994d-163309846db6",
   "metadata": {},
   "source": [
    "### Summarize Data"
   ]
  },
  {
   "cell_type": "code",
   "execution_count": null,
   "id": "b40280da-33bb-4c99-9ed0-7761007950c4",
   "metadata": {},
   "outputs": [],
   "source": [
    "df_train.shape"
   ]
  },
  {
   "cell_type": "code",
   "execution_count": null,
   "id": "38fca111-7133-4112-9ee7-2251e54365b4",
   "metadata": {},
   "outputs": [],
   "source": [
    "df_train.describe()"
   ]
  },
  {
   "cell_type": "code",
   "execution_count": null,
   "id": "bb92ef78-b0d2-4efd-93b7-6e9842fdb979",
   "metadata": {},
   "outputs": [],
   "source": [
    "df_train.Sex.value_counts()"
   ]
  },
  {
   "cell_type": "code",
   "execution_count": null,
   "id": "cb78adc8-383c-4c28-96ef-422651253429",
   "metadata": {},
   "outputs": [],
   "source": [
    "df_train[['Sex','Survived']].value_counts()"
   ]
  },
  {
   "cell_type": "code",
   "execution_count": null,
   "id": "60332aa4-eb58-4588-ae2c-c39efce21b34",
   "metadata": {},
   "outputs": [],
   "source": [
    "df_train.Pclass.nunique()"
   ]
  },
  {
   "cell_type": "code",
   "execution_count": null,
   "id": "e22e20cd-76a4-41ef-9896-f2fdcc7406a7",
   "metadata": {},
   "outputs": [],
   "source": [
    "df_train.Pclass.unique()"
   ]
  },
  {
   "cell_type": "markdown",
   "id": "dd3cdc4e-f008-4efb-b976-eb218128fbd2",
   "metadata": {},
   "source": [
    "There are a large amount of summary functions by column\n",
    "* sum()\n",
    "* count()\n",
    "* median()\n",
    "* quantile([0.25,0.5])\n",
    "* min(), max()\n",
    "* mean()\n",
    "* var(), std()\n",
    "* apply(function) apply any function to the object\n",
    "* many more"
   ]
  },
  {
   "cell_type": "code",
   "execution_count": null,
   "id": "e0f73093-7cc0-436b-8a1c-5536ac553081",
   "metadata": {},
   "outputs": [],
   "source": [
    "df_train.Fare.mean()"
   ]
  },
  {
   "cell_type": "markdown",
   "id": "510e8966-b7a0-4b9c-b4a4-93dc82b074ba",
   "metadata": {},
   "source": [
    "### Grouping Data\n",
    "Groups allows for segmenting data into groups of interest for calculation"
   ]
  },
  {
   "cell_type": "code",
   "execution_count": null,
   "id": "84850f72-3314-458c-818d-97ba492ac810",
   "metadata": {},
   "outputs": [],
   "source": [
    "df_train.groupby([\"Sex\"]).mean()"
   ]
  },
  {
   "cell_type": "code",
   "execution_count": null,
   "id": "3d272f2f-9e8d-4b76-87e5-6aa813a368a1",
   "metadata": {},
   "outputs": [],
   "source": [
    "(df_train.groupby([\"Sex\",\"Pclass\"])\n",
    " .Survived\n",
    " .mean())"
   ]
  },
  {
   "cell_type": "code",
   "execution_count": null,
   "id": "ce4a032d-cab6-47f9-8ddb-a3a8b6f19c75",
   "metadata": {},
   "outputs": [],
   "source": [
    "df_train.groupby([\"Sex\",\"Pclass\"]).Survived.count()"
   ]
  },
  {
   "cell_type": "markdown",
   "id": "fbb7228d-f979-4b2a-8cd1-61f9db41677b",
   "metadata": {},
   "source": [
    "### Missing Data"
   ]
  },
  {
   "cell_type": "code",
   "execution_count": null,
   "id": "ceb98a06-3ca6-4273-8e2f-60e2949526f9",
   "metadata": {},
   "outputs": [],
   "source": [
    "df_train.head(3)"
   ]
  },
  {
   "cell_type": "code",
   "execution_count": null,
   "id": "3c244109-45ff-4efe-bb35-cf901a27905c",
   "metadata": {},
   "outputs": [],
   "source": [
    "df_train.Cabin.value_counts()"
   ]
  },
  {
   "cell_type": "code",
   "execution_count": null,
   "id": "1a4ce98f-b520-4a2e-82ab-430e1518eb45",
   "metadata": {},
   "outputs": [],
   "source": [
    "# we can drop rows that have no data\n",
    "df_train.drop(columns=['Cabin']).dropna().shape"
   ]
  },
  {
   "cell_type": "code",
   "execution_count": null,
   "id": "05903bf7-ac0c-4580-a92d-1630407f2cb2",
   "metadata": {},
   "outputs": [],
   "source": [
    "# perhapse it is better to replace missing values with something more logical\n",
    "df_train.Cabin = df_train.Cabin.fillna('None')"
   ]
  },
  {
   "cell_type": "markdown",
   "id": "dc1e0377-e633-4614-b6eb-4b438ee97b1e",
   "metadata": {},
   "source": [
    "The replacement value for missing data is an active area of reserach. You can replace it with an average of all other values, max, min or something else. You just need to make sure you are not **leaking data**. This means that you are not filling in values with information you wouldn't have had when the observation was recorded."
   ]
  },
  {
   "cell_type": "code",
   "execution_count": null,
   "id": "c1b9e309-9c33-4d7d-8073-d475aa1561cc",
   "metadata": {},
   "outputs": [],
   "source": [
    "df_train[df_train.Cabin == 'None'].Pclass.value_counts()"
   ]
  },
  {
   "cell_type": "code",
   "execution_count": null,
   "id": "2330081f-2b20-4864-bcd5-77b5c0f6d811",
   "metadata": {},
   "outputs": [],
   "source": [
    "df_train.Cabin.value_counts()"
   ]
  },
  {
   "cell_type": "code",
   "execution_count": null,
   "id": "2d9bacf7-35d7-4791-afd8-8397c85d147a",
   "metadata": {},
   "outputs": [],
   "source": [
    "#we can also drop duplicate rows\n",
    "df_new.shape #dataframe we created from a few videos ago about reshaping data"
   ]
  },
  {
   "cell_type": "code",
   "execution_count": null,
   "id": "b076d4d2-5d2c-45b8-9d42-14984699e910",
   "metadata": {},
   "outputs": [],
   "source": [
    "df_new.drop_duplicates().shape"
   ]
  },
  {
   "cell_type": "code",
   "execution_count": null,
   "id": "53eafce8-bddc-46cf-bd88-cf2a37d2807a",
   "metadata": {},
   "outputs": [],
   "source": []
  }
 ],
 "metadata": {
  "kernelspec": {
   "display_name": "Python 3 (ipykernel)",
   "language": "python",
   "name": "python3"
  },
  "language_info": {
   "codemirror_mode": {
    "name": "ipython",
    "version": 3
   },
   "file_extension": ".py",
   "mimetype": "text/x-python",
   "name": "python",
   "nbconvert_exporter": "python",
   "pygments_lexer": "ipython3",
   "version": "3.10.5"
  }
 },
 "nbformat": 4,
 "nbformat_minor": 5
}
