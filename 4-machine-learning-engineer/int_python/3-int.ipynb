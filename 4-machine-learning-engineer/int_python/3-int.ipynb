{
 "cells": [
  {
   "cell_type": "markdown",
   "id": "94dd87fa-2128-45cc-a9ec-d13e9485b57b",
   "metadata": {},
   "source": [
    "# Intermediate Python\n",
    "Using common data science libraries\n",
    "\n",
    "### Matplotlib and Seaborn\n",
    "Data visulaization in python that works directly with `pandas`."
   ]
  },
  {
   "cell_type": "code",
   "execution_count": null,
   "id": "9accbdea-3d66-4c3c-869c-a95ff6d633b5",
   "metadata": {},
   "outputs": [],
   "source": [
    "import pandas as pd\n",
    "import matplotlib.pyplot as plt\n",
    "#this will print plots in the notebook\n",
    "%matplotlib inline "
   ]
  },
  {
   "cell_type": "code",
   "execution_count": null,
   "id": "18457cbd-6059-4981-8f59-f6d1363a5c86",
   "metadata": {},
   "outputs": [],
   "source": [
    "#works with pandas!\n",
    "df_train = pd.read_csv('data/train.csv')\n",
    "df_train.Fare.plot.hist()"
   ]
  },
  {
   "cell_type": "code",
   "execution_count": null,
   "id": "4e83569f-e4c8-465e-93e2-b445bc7fe6ed",
   "metadata": {},
   "outputs": [],
   "source": [
    "df_train.plot.scatter(x = \"Age\",y = \"Fare\")"
   ]
  },
  {
   "cell_type": "code",
   "execution_count": null,
   "id": "9a61ae67-0f9d-49eb-9fdf-5a7a08a96098",
   "metadata": {},
   "outputs": [],
   "source": [
    "(df_train[['Pclass','Fare']]\n",
    " .boxplot(by = 'Pclass'))"
   ]
  },
  {
   "cell_type": "markdown",
   "id": "017277da-adba-4eef-a34c-7455089b1275",
   "metadata": {},
   "source": [
    "### Low level matplotlib"
   ]
  },
  {
   "cell_type": "code",
   "execution_count": null,
   "id": "9e82847d-2eec-4010-ab76-c95b273b93b0",
   "metadata": {},
   "outputs": [],
   "source": [
    "import numpy as np\n",
    "import matplotlib.pyplot as plt\n",
    "\n",
    "plot_data = np.arange(20)\n",
    "\n",
    "plt.plot(plot_data) #plot is a line plot"
   ]
  },
  {
   "cell_type": "code",
   "execution_count": null,
   "id": "89b66fd1-4f45-46be-8739-61e804f469cc",
   "metadata": {},
   "outputs": [],
   "source": [
    "# the base object for matplotlib is a figure\n",
    "fig = plt.figure()\n",
    "fig\n",
    "# in Jupyter we must keep all commands for a single plot in one cell.\n",
    "\n",
    "# there is nothing to show becuse we haven't populated anything yet!\n",
    "# images are built using subplots\n",
    "ax1 = fig.add_subplot(2, 2, 1)\n",
    "ax2 = fig.add_subplot(2, 2, 2)\n",
    "ax3 = fig.add_subplot(2, 2, 3)\n",
    "ax4 = fig.add_subplot(2, 2, 4)\n",
    "ax1.hist(np.random.standard_normal(100))\n",
    "ax2.plot(np.random.standard_normal(100).cumsum(),\n",
    "        color = \"black\",\n",
    "        linestyle = \"dashed\")\n"
   ]
  },
  {
   "cell_type": "code",
   "execution_count": null,
   "id": "b54a2aa5-081e-435a-b054-210e41673a3b",
   "metadata": {},
   "outputs": [],
   "source": [
    "#instead of creating each subplot one at a time you can use subplots\n",
    "fig, axes = plt.subplots(nrows= 2, ncols=2, sharex = True, sharey = True)\n",
    "\n",
    "# then access each sub plot as an index\n",
    "axes[0,0].hist(np.random.standard_normal(100))\n",
    "axes[1,1].hist(np.random.standard_normal(100))\n",
    "\n",
    "fig.subplots_adjust(wspace= 0, hspace=0)"
   ]
  },
  {
   "cell_type": "markdown",
   "id": "04844bec-eea7-421e-90f6-d77cc601616e",
   "metadata": {},
   "source": [
    "### Color, Linestyle, and Marker\n",
    "There are dozens of color names, linestyles, and markers. Here are a few."
   ]
  },
  {
   "cell_type": "code",
   "execution_count": null,
   "id": "4dbda233-0d2c-4304-961a-494ec48f3a7f",
   "metadata": {},
   "outputs": [],
   "source": [
    "fig = plt.figure()\n",
    "axes = fig.add_subplot()\n",
    "\n",
    "axes.plot(np.random.standard_normal(50).cumsum(),\n",
    "           color = \"#de2d26\", #color can also be hex code\n",
    "           linestyle = \"dashed\",\n",
    "           marker = \"o\",\n",
    "           label = \"smooth line\")\n",
    "axes.plot(np.random.standard_normal(50).cumsum(),\n",
    "           color = \"black\", #color can also be hex code\n",
    "           linestyle = \"dashed\",\n",
    "           drawstyle = \"steps-post\",\n",
    "           label = \"step line\")\n",
    "axes.legend()\n"
   ]
  },
  {
   "cell_type": "code",
   "execution_count": null,
   "id": "fdddc09d-8761-41ef-87f2-6b90765a1021",
   "metadata": {},
   "outputs": [],
   "source": [
    "from numpy.random import normal as n\n",
    "\n",
    "fig = plt.figure()\n",
    "axes = fig.add_subplot()\n",
    "\n",
    "axes.plot(n(1,5,20).cumsum())\n",
    "\n",
    "axes.set_xticks([0, 5, 10, 15, 20])\n",
    "\n",
    "axes.set_xticklabels([\"zero\", \"five\", \"ten\", \"fifteen\", \"twenty\"],                           \n",
    "                   rotation=30, fontsize=8)\n",
    "\n",
    "axes.set_title(\"my random numbers\")\n",
    "\n",
    "axes.set_xlabel(\"total random numbers\")\n",
    "\n",
    "axes.set_ylabel(\"total running total\")"
   ]
  },
  {
   "cell_type": "markdown",
   "id": "d147db7b-3386-4803-bbbf-da5bbf474225",
   "metadata": {},
   "source": [
    "### Saving Plots"
   ]
  },
  {
   "cell_type": "code",
   "execution_count": null,
   "id": "76c34927-5fbd-4c2d-96fa-30c068856e35",
   "metadata": {},
   "outputs": [],
   "source": [
    "fig = plt.figure()\n",
    "axes = fig.add_subplot()\n",
    "\n",
    "axes.plot(n(1,5,20).cumsum())\n",
    "\n",
    "axes.set_xticks([0, 5, 10, 15, 20])\n",
    "\n",
    "axes.set_xticklabels([\"zero\", \"five\", \"ten\", \"fifteen\", \"twenty\"],                           \n",
    "                   rotation=30, fontsize=8)\n",
    "\n",
    "axes.set_title(\"my random numbers\")\n",
    "\n",
    "axes.set_xlabel(\"total random numbers\")\n",
    "\n",
    "axes.set_ylabel(\"total running total\")\n",
    "\n",
    "fig.savefig(\"my_plot.svg\", bbox_inches=\"tight\")"
   ]
  },
  {
   "cell_type": "markdown",
   "id": "9d3a09f7-3dac-4c91-af4e-f65b12bfd59a",
   "metadata": {},
   "source": [
    "### Plotting with Seaborn"
   ]
  },
  {
   "cell_type": "code",
   "execution_count": 136,
   "id": "31e52dbf-252a-40c7-849a-d2c4940232c4",
   "metadata": {},
   "outputs": [
    {
     "data": {
      "text/html": [
       "<div>\n",
       "<style scoped>\n",
       "    .dataframe tbody tr th:only-of-type {\n",
       "        vertical-align: middle;\n",
       "    }\n",
       "\n",
       "    .dataframe tbody tr th {\n",
       "        vertical-align: top;\n",
       "    }\n",
       "\n",
       "    .dataframe thead th {\n",
       "        text-align: right;\n",
       "    }\n",
       "</style>\n",
       "<table border=\"1\" class=\"dataframe\">\n",
       "  <thead>\n",
       "    <tr style=\"text-align: right;\">\n",
       "      <th></th>\n",
       "      <th>PassengerId</th>\n",
       "      <th>Survived</th>\n",
       "      <th>Pclass</th>\n",
       "      <th>Name</th>\n",
       "      <th>Sex</th>\n",
       "      <th>Age</th>\n",
       "      <th>SibSp</th>\n",
       "      <th>Parch</th>\n",
       "      <th>Ticket</th>\n",
       "      <th>Fare</th>\n",
       "      <th>Cabin</th>\n",
       "      <th>Embarked</th>\n",
       "    </tr>\n",
       "  </thead>\n",
       "  <tbody>\n",
       "    <tr>\n",
       "      <th>0</th>\n",
       "      <td>1</td>\n",
       "      <td>0</td>\n",
       "      <td>3</td>\n",
       "      <td>Braund, Mr. Owen Harris</td>\n",
       "      <td>male</td>\n",
       "      <td>22.0</td>\n",
       "      <td>1</td>\n",
       "      <td>0</td>\n",
       "      <td>A/5 21171</td>\n",
       "      <td>7.2500</td>\n",
       "      <td>NaN</td>\n",
       "      <td>S</td>\n",
       "    </tr>\n",
       "    <tr>\n",
       "      <th>1</th>\n",
       "      <td>2</td>\n",
       "      <td>1</td>\n",
       "      <td>1</td>\n",
       "      <td>Cumings, Mrs. John Bradley (Florence Briggs Th...</td>\n",
       "      <td>female</td>\n",
       "      <td>38.0</td>\n",
       "      <td>1</td>\n",
       "      <td>0</td>\n",
       "      <td>PC 17599</td>\n",
       "      <td>71.2833</td>\n",
       "      <td>C85</td>\n",
       "      <td>C</td>\n",
       "    </tr>\n",
       "    <tr>\n",
       "      <th>2</th>\n",
       "      <td>3</td>\n",
       "      <td>1</td>\n",
       "      <td>3</td>\n",
       "      <td>Heikkinen, Miss. Laina</td>\n",
       "      <td>female</td>\n",
       "      <td>26.0</td>\n",
       "      <td>0</td>\n",
       "      <td>0</td>\n",
       "      <td>STON/O2. 3101282</td>\n",
       "      <td>7.9250</td>\n",
       "      <td>NaN</td>\n",
       "      <td>S</td>\n",
       "    </tr>\n",
       "    <tr>\n",
       "      <th>3</th>\n",
       "      <td>4</td>\n",
       "      <td>1</td>\n",
       "      <td>1</td>\n",
       "      <td>Futrelle, Mrs. Jacques Heath (Lily May Peel)</td>\n",
       "      <td>female</td>\n",
       "      <td>35.0</td>\n",
       "      <td>1</td>\n",
       "      <td>0</td>\n",
       "      <td>113803</td>\n",
       "      <td>53.1000</td>\n",
       "      <td>C123</td>\n",
       "      <td>S</td>\n",
       "    </tr>\n",
       "    <tr>\n",
       "      <th>4</th>\n",
       "      <td>5</td>\n",
       "      <td>0</td>\n",
       "      <td>3</td>\n",
       "      <td>Allen, Mr. William Henry</td>\n",
       "      <td>male</td>\n",
       "      <td>35.0</td>\n",
       "      <td>0</td>\n",
       "      <td>0</td>\n",
       "      <td>373450</td>\n",
       "      <td>8.0500</td>\n",
       "      <td>NaN</td>\n",
       "      <td>S</td>\n",
       "    </tr>\n",
       "  </tbody>\n",
       "</table>\n",
       "</div>"
      ],
      "text/plain": [
       "   PassengerId  Survived  Pclass  \\\n",
       "0            1         0       3   \n",
       "1            2         1       1   \n",
       "2            3         1       3   \n",
       "3            4         1       1   \n",
       "4            5         0       3   \n",
       "\n",
       "                                                Name     Sex   Age  SibSp  \\\n",
       "0                            Braund, Mr. Owen Harris    male  22.0      1   \n",
       "1  Cumings, Mrs. John Bradley (Florence Briggs Th...  female  38.0      1   \n",
       "2                             Heikkinen, Miss. Laina  female  26.0      0   \n",
       "3       Futrelle, Mrs. Jacques Heath (Lily May Peel)  female  35.0      1   \n",
       "4                           Allen, Mr. William Henry    male  35.0      0   \n",
       "\n",
       "   Parch            Ticket     Fare Cabin Embarked  \n",
       "0      0         A/5 21171   7.2500   NaN        S  \n",
       "1      0          PC 17599  71.2833   C85        C  \n",
       "2      0  STON/O2. 3101282   7.9250   NaN        S  \n",
       "3      0            113803  53.1000  C123        S  \n",
       "4      0            373450   8.0500   NaN        S  "
      ]
     },
     "execution_count": 136,
     "metadata": {},
     "output_type": "execute_result"
    }
   ],
   "source": [
    "df_train = pd.read_csv('data/train.csv')\n",
    "df_train.head()"
   ]
  },
  {
   "cell_type": "code",
   "execution_count": 138,
   "id": "2169dda4-7b98-4360-8bfd-305b84a38503",
   "metadata": {},
   "outputs": [
    {
     "data": {
      "text/plain": [
       "<AxesSubplot:ylabel='Density'>"
      ]
     },
     "execution_count": 138,
     "metadata": {},
     "output_type": "execute_result"
    },
    {
     "data": {
      "image/png": "[encoded data removed]",
      "text/plain": [
       "<Figure size 432x288 with 1 Axes>"
      ]
     },
     "metadata": {
      "needs_background": "light"
     },
     "output_type": "display_data"
    }
   ],
   "source": [
    "import seaborn as sns #convention but it is already integrated into pandas\n",
    "\n",
    "# remember this example from before? this is already using seaborn\n",
    "df_train.Fare.plot.density()"
   ]
  },
  {
   "cell_type": "code",
   "execution_count": 139,
   "id": "4143d38a-365d-43d2-ae9d-72153709550b",
   "metadata": {},
   "outputs": [
    {
     "data": {
      "text/html": [
       "<div>\n",
       "<style scoped>\n",
       "    .dataframe tbody tr th:only-of-type {\n",
       "        vertical-align: middle;\n",
       "    }\n",
       "\n",
       "    .dataframe tbody tr th {\n",
       "        vertical-align: top;\n",
       "    }\n",
       "\n",
       "    .dataframe thead th {\n",
       "        text-align: right;\n",
       "    }\n",
       "</style>\n",
       "<table border=\"1\" class=\"dataframe\">\n",
       "  <thead>\n",
       "    <tr style=\"text-align: right;\">\n",
       "      <th></th>\n",
       "      <th>Sex</th>\n",
       "      <th>Survived</th>\n",
       "      <th>Count</th>\n",
       "    </tr>\n",
       "  </thead>\n",
       "  <tbody>\n",
       "    <tr>\n",
       "      <th>Female Did Not Survive</th>\n",
       "      <td>female</td>\n",
       "      <td>0</td>\n",
       "      <td>81</td>\n",
       "    </tr>\n",
       "    <tr>\n",
       "      <th>Female Survived</th>\n",
       "      <td>female</td>\n",
       "      <td>1</td>\n",
       "      <td>233</td>\n",
       "    </tr>\n",
       "    <tr>\n",
       "      <th>Male Did Not Survive</th>\n",
       "      <td>male</td>\n",
       "      <td>0</td>\n",
       "      <td>468</td>\n",
       "    </tr>\n",
       "    <tr>\n",
       "      <th>Male Suvived</th>\n",
       "      <td>male</td>\n",
       "      <td>1</td>\n",
       "      <td>109</td>\n",
       "    </tr>\n",
       "  </tbody>\n",
       "</table>\n",
       "</div>"
      ],
      "text/plain": [
       "                           Sex  Survived  Count\n",
       "Female Did Not Survive  female         0     81\n",
       "Female Survived         female         1    233\n",
       "Male Did Not Survive      male         0    468\n",
       "Male Suvived              male         1    109"
      ]
     },
     "execution_count": 139,
     "metadata": {},
     "output_type": "execute_result"
    }
   ],
   "source": [
    "# unlike R we still need to do a lot of pre-proessing\n",
    "df_counts = (df_train[['Sex','Survived']]\n",
    "             .value_counts()\n",
    "             .reset_index()\n",
    "             .rename(columns = {0:\"Count\"})\n",
    "             .sort_values([\"Sex\",\"Survived\"])\n",
    "             .set_index(pd.Index(['Female Did Not Survive', 'Female Survived','Male Did Not Survive','Male Suvived']))\n",
    "            )\n",
    "             \n",
    "df_counts"
   ]
  },
  {
   "cell_type": "code",
   "execution_count": 140,
   "id": "b6c10c08-5b4a-49a2-85ea-f047d2e262bb",
   "metadata": {},
   "outputs": [
    {
     "data": {
      "text/plain": [
       "<AxesSubplot:>"
      ]
     },
     "execution_count": 140,
     "metadata": {},
     "output_type": "execute_result"
    },
    {
     "data": {
      "image/png": "[encoded data removed]",
      "text/plain": [
       "<Figure size 432x288 with 1 Axes>"
      ]
     },
     "metadata": {
      "needs_background": "light"
     },
     "output_type": "display_data"
    }
   ],
   "source": [
    "my_colors = ['pink','pink','blue','blue']\n",
    "df_counts.Count.plot.bar(stacked = True, color = my_colors)"
   ]
  },
  {
   "cell_type": "markdown",
   "id": "403aee62-6ea0-4d93-bab9-cf3de1380de3",
   "metadata": {},
   "source": [
    "The following methods for `.plot` directly on pandas dataframes are also available\n",
    "\n",
    "* bar\n",
    "* hist\n",
    "* box\n",
    "* density\n",
    "* area\n",
    "* scatter\n",
    "* hexbin\n",
    "* pie"
   ]
  },
  {
   "cell_type": "code",
   "execution_count": 141,
   "id": "d29dc46e-b567-46d0-a55d-bcee17a78ddc",
   "metadata": {},
   "outputs": [
    {
     "data": {
      "text/plain": [
       "<AxesSubplot:title={'center':'Fare'}, xlabel='[Pclass]'>"
      ]
     },
     "execution_count": 141,
     "metadata": {},
     "output_type": "execute_result"
    },
    {
     "data": {
      "image/png": "[encoded data removed]",
      "text/plain": [
       "<Figure size 432x288 with 1 Axes>"
      ]
     },
     "metadata": {
      "needs_background": "light"
     },
     "output_type": "display_data"
    }
   ],
   "source": [
    "# you can even use some methods directly \n",
    "(df_train[['Pclass','Fare']]\n",
    " .boxplot(by = 'Pclass'))"
   ]
  }
 ],
 "metadata": {
  "kernelspec": {
   "display_name": "Python 3 (ipykernel)",
   "language": "python",
   "name": "python3"
  },
  "language_info": {
   "codemirror_mode": {
    "name": "ipython",
    "version": 3
   },
   "file_extension": ".py",
   "mimetype": "text/x-python",
   "name": "python",
   "nbconvert_exporter": "python",
   "pygments_lexer": "ipython3",
   "version": "3.10.5"
  }
 },
 "nbformat": 4,
 "nbformat_minor": 5
}
