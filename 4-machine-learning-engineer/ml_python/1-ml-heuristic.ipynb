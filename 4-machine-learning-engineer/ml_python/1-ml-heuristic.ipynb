{
 "cells": [
  {
   "cell_type": "markdown",
   "id": "4e2f87e9-0587-43ef-8e62-0624986e2060",
   "metadata": {},
   "source": [
    "# Machine Learning with Python - Heuristics\n",
    "Many times a simple rule-of-thumb performs better than advanced ML\n",
    "\n",
    "### Human Learn\n",
    "Super clever library to manage huristic models like ML scikit-learn models"
   ]
  },
  {
   "cell_type": "code",
   "execution_count": null,
   "id": "0ac1d065-da86-45da-904e-3c9599a9d4ef",
   "metadata": {},
   "outputs": [],
   "source": [
    "# need to install this now becasue it isn't in the container.\n",
    "!pip install human-learn"
   ]
  },
  {
   "cell_type": "code",
   "execution_count": null,
   "id": "f8de556d-9cdb-4e21-84b2-ada1fdf4d9f4",
   "metadata": {},
   "outputs": [],
   "source": [
    "import pandas as pd\n",
    "import numpy as np\n",
    "\n",
    "from sklearn.model_selection import train_test_split\n",
    "\n",
    "#read in our titanic data\n",
    "df_og = pd.read_csv('data/train.csv') "
   ]
  },
  {
   "cell_type": "code",
   "execution_count": null,
   "id": "d0a09220-4190-434b-8966-d97418126fb1",
   "metadata": {},
   "outputs": [],
   "source": [
    "df_og.head()"
   ]
  },
  {
   "cell_type": "code",
   "execution_count": null,
   "id": "37845a91-c231-43ee-a2c5-00f1aea2f11d",
   "metadata": {},
   "outputs": [],
   "source": [
    "#split the data set into train and test sets remove any non-numeric columns for the example\n",
    "X, y = df_og.drop(columns=['PassengerId','Name','Ticket','Cabin','Embarked']), df_og['Survived']\n",
    "\n",
    "X_train, X_test, y_train, y_test = train_test_split(X, y, test_size=0.33, random_state=42)\n",
    "\n",
    "print('size of X_train') \n",
    "print(X_train.shape)\n",
    "print('size of X_test')\n",
    "print(X_test.shape)"
   ]
  },
  {
   "cell_type": "code",
   "execution_count": null,
   "id": "11764a0a-6254-4f78-9cbe-e5d6ad5a9545",
   "metadata": {},
   "outputs": [],
   "source": [
    "X_train.head()\n"
   ]
  },
  {
   "cell_type": "code",
   "execution_count": null,
   "id": "704eee3c-b694-409e-ab40-0ca01dd5cd2c",
   "metadata": {},
   "outputs": [],
   "source": [
    "X_train['Survived'].mean()"
   ]
  },
  {
   "cell_type": "markdown",
   "id": "45526664-7679-47c3-ab99-20096f6b8a75",
   "metadata": {},
   "source": [
    "The human learn package provides a number of methods to visually explore the data"
   ]
  },
  {
   "cell_type": "code",
   "execution_count": null,
   "id": "8cfdbe79-f494-4d15-a78b-38512eeea2cb",
   "metadata": {},
   "outputs": [],
   "source": [
    "(X_train.groupby([\"Sex\",\"Pclass\"])\n",
    " .Survived\n",
    " .mean())"
   ]
  },
  {
   "cell_type": "code",
   "execution_count": null,
   "id": "368faf4a-b6f7-48fe-b8c9-455fd6a08113",
   "metadata": {},
   "outputs": [],
   "source": [
    "\n",
    "(X_train.groupby([\"Sex\",\"Pclass\"])\n",
    " .Survived\n",
    " .count())"
   ]
  },
  {
   "cell_type": "code",
   "execution_count": null,
   "id": "0c1237ce-ed2e-4e6e-87bb-8d51d8b33df7",
   "metadata": {},
   "outputs": [],
   "source": [
    "X_train[X_train['Survived']==1]['Age'].hist()"
   ]
  },
  {
   "cell_type": "code",
   "execution_count": null,
   "id": "1de2350f-241e-499c-b528-9690de1b6ec9",
   "metadata": {},
   "outputs": [],
   "source": [
    "X_train[X_train['Survived']==0]['Age'].hist()"
   ]
  },
  {
   "cell_type": "code",
   "execution_count": null,
   "id": "84608440-3cf2-4f94-8cf2-e8541e4ac67d",
   "metadata": {},
   "outputs": [],
   "source": [
    "from hulearn.classification import FunctionClassifier\n",
    "#with this information I'm going to build a function that uses a heuristic to predic\n",
    "def sex_pclass(dataf):\n",
    "    \"\"\"\n",
    "    The assumption is that women and children survive\n",
    "    \"\"\"\n",
    "    \n",
    "    women_rule = (dataf['Pclass'] < 3.0) & (dataf['Sex'] == 'female')\n",
    "    children_rule = (dataf['Pclass'] < 3.0) & (dataf['Age'] <= 15)\n",
    "    pred =  women_rule | children_rule\n",
    "    \n",
    "    return np.array(pred).astype(int)\n",
    "\n",
    "heuristic_model = FunctionClassifier(sex_pclass)"
   ]
  },
  {
   "cell_type": "code",
   "execution_count": null,
   "id": "c8e9f274-2fc7-4853-8084-982582a618d6",
   "metadata": {},
   "outputs": [],
   "source": [
    "sex_pclass(X_train)[0:10]"
   ]
  },
  {
   "cell_type": "code",
   "execution_count": null,
   "id": "6e14a5c8-7ba5-4824-90f6-605191b2559b",
   "metadata": {},
   "outputs": [],
   "source": [
    "from sklearn.metrics import accuracy_score, precision_score, recall_score, f1_score, confusion_matrix\n",
    "\n",
    "preds = heuristic_model.fit(X_train, y_train).predict(X_train)\n",
    "\n",
    "print(('accuray:' + str(accuracy_score(y_train, preds))))\n",
    "print(('precision:' + str(precision_score(y_train, preds))))\n",
    "print(('recall:' + str(recall_score(y_train, preds))))\n",
    "print(('f1:' + str(f1_score(y_train, preds))))\n",
    "print('confusion_matrix')\n",
    "print(confusion_matrix(y_train, preds))"
   ]
  },
  {
   "cell_type": "code",
   "execution_count": null,
   "id": "9be87f14-75df-43c8-8f8b-84139495fdaf",
   "metadata": {},
   "outputs": [],
   "source": [
    "#now see how the rule works on the hold out test set\n",
    "preds = heuristic_model.fit(X_train, y_train).predict(X_test)\n",
    "\n",
    "print(('accuray:' + str(accuracy_score(y_test, preds))))\n",
    "print(('precision:' + str(precision_score(y_test, preds))))\n",
    "print(('recall:' + str(recall_score(y_test, preds))))\n",
    "print(('f1:' + str(f1_score(y_test, preds))))\n",
    "print('confusion_matrix')\n",
    "print(confusion_matrix(y_test, preds))"
   ]
  },
  {
   "cell_type": "code",
   "execution_count": null,
   "id": "fcfb1dea-b66d-4dc7-bd5c-fd807f133323",
   "metadata": {},
   "outputs": [],
   "source": []
  }
 ],
 "metadata": {
  "kernelspec": {
   "display_name": "Python 3 (ipykernel)",
   "language": "python",
   "name": "python3"
  },
  "language_info": {
   "codemirror_mode": {
    "name": "ipython",
    "version": 3
   },
   "file_extension": ".py",
   "mimetype": "text/x-python",
   "name": "python",
   "nbconvert_exporter": "python",
   "pygments_lexer": "ipython3",
   "version": "3.10.5"
  }
 },
 "nbformat": 4,
 "nbformat_minor": 5
}
