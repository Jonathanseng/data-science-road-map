{
 "cells": [
  {
   "cell_type": "markdown",
   "id": "e3b243e4-479e-4e79-858e-884978561797",
   "metadata": {},
   "source": [
    "# Machine Learning with Python - Linear Regression\n",
    "The basics of prediction with linear models\n",
    "\n",
    "### closed form, gradient descent, and sklearn\n",
    "Working through all the methods to conduct OLS optimization for linear regression. Ending with **sci-kit learn** the most popular framework for fiting popular small data models"
   ]
  },
  {
   "cell_type": "code",
   "execution_count": null,
   "id": "1d18cddc-0d12-411d-a5ed-36172ac24908",
   "metadata": {},
   "outputs": [],
   "source": [
    "!pip install yfinance"
   ]
  },
  {
   "cell_type": "code",
   "execution_count": null,
   "id": "91aa5af6-6a20-4456-9b80-377a2cd2c2d1",
   "metadata": {},
   "outputs": [],
   "source": [
    "import numpy as np\n",
    "import pandas as pd\n",
    "from datetime import datetime\n",
    "import yfinance as yf"
   ]
  },
  {
   "cell_type": "markdown",
   "id": "8e0b9dd5-2f40-4133-b77d-223126ce404d",
   "metadata": {},
   "source": [
    "let's use some finance data collected from the Yahoo! finance API using [yfinance](https://github.com/ranaroussi/yfinance). for the linear regression example. We will compare Microsoft monthly returns (MSFT) vs. the market (SPY or S&P 500)."
   ]
  },
  {
   "cell_type": "code",
   "execution_count": null,
   "id": "0e761197-c5b3-47f0-bb27-b6cf72ff31de",
   "metadata": {},
   "outputs": [],
   "source": [
    "start_date = datetime(2010, 1, 1)\n",
    "end_date = datetime(2021, 12, 31)\n",
    "\n",
    "stock_data = yf.download('SPY MSFT', \n",
    "                   interval = \"1mo\",\n",
    "                   start=start_date, \n",
    "                   end=end_date)\n",
    "\n",
    "stock_data.head()"
   ]
  },
  {
   "cell_type": "code",
   "execution_count": null,
   "id": "ab414ef1-10c7-4a67-82f9-4c05959efd12",
   "metadata": {},
   "outputs": [],
   "source": [
    "stock_data.columns"
   ]
  },
  {
   "cell_type": "code",
   "execution_count": null,
   "id": "a77d6562-4751-4f78-b7d6-5701081afff0",
   "metadata": {},
   "outputs": [],
   "source": [
    "stock_data_adj_close = stock_data.iloc[:, stock_data.columns.get_level_values(0) == 'Adj Close'].pct_change().dropna()\n",
    "stock_data_adj_close.columns = ['MSFT','SPY']\n",
    "stock_data_adj_close.head()\n"
   ]
  },
  {
   "cell_type": "code",
   "execution_count": null,
   "id": "1ae6894e-a7be-4209-8215-0847fbe0c183",
   "metadata": {},
   "outputs": [],
   "source": [
    "from seaborn import scatterplot"
   ]
  },
  {
   "cell_type": "code",
   "execution_count": null,
   "id": "1e1ed7a3-8d36-45d2-991e-e58937237e78",
   "metadata": {},
   "outputs": [],
   "source": [
    "scatterplot(data = stock_data_adj_close, x = 'MSFT', y = 'SPY')"
   ]
  },
  {
   "cell_type": "markdown",
   "id": "d5c244ab-b2ac-4436-b56d-c3c9bbb7ec3d",
   "metadata": {},
   "source": [
    "Let's look at creating our linear regession model using closed form [OLS model](https://towardsdatascience.com/manually-computing-coefficients-for-an-ols-regression-using-python-50d8e413de)"
   ]
  },
  {
   "cell_type": "code",
   "execution_count": null,
   "id": "7dd9a241-0523-4a4a-b9b7-37eedcee4b92",
   "metadata": {},
   "outputs": [],
   "source": [
    "x = stock_data_adj_close.SPY.values\n",
    "\n",
    "ones = np.ones(len(x))\n",
    "\n",
    "x = np.vstack((ones,x))\n",
    "\n",
    "x = x.T\n",
    "\n",
    "y = stock_data_adj_close.MSFT.values"
   ]
  },
  {
   "cell_type": "code",
   "execution_count": null,
   "id": "d2dc73af-c8c7-4bb4-b7d9-15380b066639",
   "metadata": {},
   "outputs": [],
   "source": [
    "#closed form calculation\n",
    "betas = np.linalg.inv(x.T @ x) @ x.T @ y\n",
    "print(betas)"
   ]
  },
  {
   "cell_type": "markdown",
   "id": "bc49f98d-f8ca-4e25-9649-92307a59a26d",
   "metadata": {},
   "source": [
    "Now lets do the same thing but with [**gradient descent.**](https://towardsdatascience.com/linear-regression-using-gradient-descent-97a6c8700931)"
   ]
  },
  {
   "cell_type": "code",
   "execution_count": null,
   "id": "b01efd59-1819-4e4b-93c7-df01f20a4be0",
   "metadata": {},
   "outputs": [],
   "source": [
    "x = x[:,1] #remove the ones column for this part"
   ]
  },
  {
   "cell_type": "code",
   "execution_count": null,
   "id": "788a2754-fff7-4afc-8d0d-56e781c6c80b",
   "metadata": {},
   "outputs": [],
   "source": [
    "# initalize the parameters at 0 (not always a good idea!)\n",
    "b_1 = 0.01\n",
    "b_0 = 0.01\n",
    "\n",
    "alpha = 0.1  # The learning Rate\n",
    "epochs = 50000  # The number of descent iterations\n",
    "\n",
    "n = float(len(x)) # Number of elements in x\n",
    "\n",
    "# Gradient Descent \n",
    "for i in range(epochs): \n",
    "    y_pred = b_1*x + b_0  # The current predicted value of y\n",
    "    D_b_1 = (-2/n) * sum(x * (y - y_pred))  # Derivative wrt b_1\n",
    "    D_b_0 = (-2/n) * sum(y - y_pred)  # Derivative wrt b_0\n",
    "    b_1 = b_1 - alpha * D_b_1  # Update b_1\n",
    "    b_0 = b_0 - alpha * D_b_0  # Update b_0\n",
    "    \n",
    "print (b_0, b_1)"
   ]
  },
  {
   "cell_type": "markdown",
   "id": "78c3d241-ed1d-4542-a2a3-cf599d8af669",
   "metadata": {},
   "source": [
    "Now let's see how this is done using sklearn"
   ]
  },
  {
   "cell_type": "code",
   "execution_count": null,
   "id": "8fd8e9d6-47df-4b0e-93af-1449ce7ddd38",
   "metadata": {},
   "outputs": [],
   "source": [
    "from sklearn.linear_model import LinearRegression\n",
    "from matplotlib import pyplot as plt"
   ]
  },
  {
   "cell_type": "code",
   "execution_count": null,
   "id": "91d506e3-3a9e-4dd0-96b6-4cdcff2d3edb",
   "metadata": {},
   "outputs": [],
   "source": [
    "#keep in mind we would need to split this data. However, this data is timeseries so we can only test it by using it to predict forward.\n",
    "regr = LinearRegression()\n",
    "x = x.reshape(-1, 1) #shape needed for sklearn\n",
    "regr.fit(x, y)\n",
    "print(regr.score(x, y)) #gives us r^2"
   ]
  },
  {
   "cell_type": "code",
   "execution_count": null,
   "id": "079888bc-6ccf-44cc-acbd-8b1ed9e9f519",
   "metadata": {},
   "outputs": [],
   "source": [
    "plt.scatter(x, y,color='b')\n",
    "plt.plot(x, regr.predict(x),color='k')\n",
    "\n",
    "plt.show()"
   ]
  },
  {
   "cell_type": "code",
   "execution_count": null,
   "id": "d3976bc3-3293-4091-b63d-a1b17640e63d",
   "metadata": {},
   "outputs": [],
   "source": [
    "#predict going forward\n",
    "start_date = datetime(2022, 1, 1)\n",
    "end_date = datetime(2022, 12, 31)\n",
    "\n",
    "stock_data = yf.download('MSFT SPY', \n",
    "                   interval = \"1mo\",\n",
    "                   start=start_date, \n",
    "                   end=end_date)\n",
    "\n",
    "stock_data_adj_close = stock_data.iloc[:, stock_data.columns.get_level_values(0) == 'Adj Close'].pct_change().dropna()\n",
    "\n",
    "stock_data_adj_close.columns = ['MSFT','SPY']\n",
    "\n",
    "x = stock_data_adj_close.SPY.values\n",
    "x = x.reshape(-1,1)\n",
    "\n",
    "y = stock_data_adj_close.MSFT.values"
   ]
  },
  {
   "cell_type": "code",
   "execution_count": null,
   "id": "9d584ba1-c779-4bf1-8219-04b4482d8965",
   "metadata": {},
   "outputs": [],
   "source": [
    "from sklearn.metrics import r2_score\n",
    "\n",
    "r2_score(y, regr.predict(x))"
   ]
  },
  {
   "cell_type": "code",
   "execution_count": null,
   "id": "6730bf2f-807f-4a38-9a79-ac7a10150c63",
   "metadata": {},
   "outputs": [],
   "source": [
    "plt.scatter(x, y, color='b')\n",
    "\n",
    "plt.show()"
   ]
  },
  {
   "cell_type": "code",
   "execution_count": null,
   "id": "6004686c-3c56-4d10-b0aa-5728138596da",
   "metadata": {},
   "outputs": [],
   "source": []
  }
 ],
 "metadata": {
  "kernelspec": {
   "display_name": "Python 3 (ipykernel)",
   "language": "python",
   "name": "python3"
  },
  "language_info": {
   "codemirror_mode": {
    "name": "ipython",
    "version": 3
   },
   "file_extension": ".py",
   "mimetype": "text/x-python",
   "name": "python",
   "nbconvert_exporter": "python",
   "pygments_lexer": "ipython3",
   "version": "3.10.5"
  }
 },
 "nbformat": 4,
 "nbformat_minor": 5
}
