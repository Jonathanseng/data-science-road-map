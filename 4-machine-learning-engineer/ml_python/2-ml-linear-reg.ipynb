{
 "cells": [
  {
   "cell_type": "markdown",
   "id": "e3b243e4-479e-4e79-858e-884978561797",
   "metadata": {},
   "source": [
    "# Machine Learning with Python - Linear Regression\n",
    "The basics of prediction with linear models\n",
    "\n",
    "### closed form, gradient descent, and sklearn\n",
    "Working through all the methods to conduct OLS optimization for linear regression. Ending with **sci-kit learn** the most popular framework for fiting popular small data models"
   ]
  },
  {
   "cell_type": "code",
   "execution_count": 1,
   "id": "1d18cddc-0d12-411d-a5ed-36172ac24908",
   "metadata": {},
   "outputs": [
    {
     "name": "stdout",
     "output_type": "stream",
     "text": [
      "Collecting yfinance\n",
      "  Downloading yfinance-0.1.90-py2.py3-none-any.whl (29 kB)\n",
      "Requirement already satisfied: pandas>=1.3.0 in /opt/conda/lib/python3.10/site-packages (from yfinance) (1.4.3)\n",
      "Requirement already satisfied: requests>=2.26 in /opt/conda/lib/python3.10/site-packages (from yfinance) (2.28.1)\n",
      "Collecting multitasking>=0.0.7\n",
      "  Downloading multitasking-0.0.11-py3-none-any.whl (8.5 kB)\n",
      "Collecting appdirs>=1.4.4\n",
      "  Downloading appdirs-1.4.4-py2.py3-none-any.whl (9.6 kB)\n",
      "Collecting lxml>=4.9.1\n",
      "  Downloading lxml-4.9.2-cp310-cp310-manylinux_2_17_x86_64.manylinux2014_x86_64.manylinux_2_24_x86_64.whl (7.1 MB)\n",
      "\u001b[2K     \u001b[90m━━━━━━━━━━━━━━━━━━━━━━━━━━━━━━━━━━━━━━━━\u001b[0m \u001b[32m7.1/7.1 MB\u001b[0m \u001b[31m6.6 MB/s\u001b[0m eta \u001b[36m0:00:00\u001b[0m00:01\u001b[0m00:01\u001b[0m\n",
      "\u001b[?25hRequirement already satisfied: numpy>=1.16.5 in /opt/conda/lib/python3.10/site-packages (from yfinance) (1.22.4)\n",
      "Requirement already satisfied: python-dateutil>=2.8.1 in /opt/conda/lib/python3.10/site-packages (from pandas>=1.3.0->yfinance) (2.8.2)\n",
      "Requirement already satisfied: pytz>=2020.1 in /opt/conda/lib/python3.10/site-packages (from pandas>=1.3.0->yfinance) (2022.1)\n",
      "Requirement already satisfied: idna<4,>=2.5 in /opt/conda/lib/python3.10/site-packages (from requests>=2.26->yfinance) (3.3)\n",
      "Requirement already satisfied: certifi>=2017.4.17 in /opt/conda/lib/python3.10/site-packages (from requests>=2.26->yfinance) (2022.6.15)\n",
      "Requirement already satisfied: charset-normalizer<3,>=2 in /opt/conda/lib/python3.10/site-packages (from requests>=2.26->yfinance) (2.1.0)\n",
      "Requirement already satisfied: urllib3<1.27,>=1.21.1 in /opt/conda/lib/python3.10/site-packages (from requests>=2.26->yfinance) (1.26.11)\n",
      "Requirement already satisfied: six>=1.5 in /opt/conda/lib/python3.10/site-packages (from python-dateutil>=2.8.1->pandas>=1.3.0->yfinance) (1.16.0)\n",
      "Installing collected packages: multitasking, appdirs, lxml, yfinance\n",
      "Successfully installed appdirs-1.4.4 lxml-4.9.2 multitasking-0.0.11 yfinance-0.1.90\n"
     ]
    }
   ],
   "source": [
    "!pip install yfinance"
   ]
  },
  {
   "cell_type": "code",
   "execution_count": 2,
   "id": "91aa5af6-6a20-4456-9b80-377a2cd2c2d1",
   "metadata": {},
   "outputs": [],
   "source": [
    "import numpy as np\n",
    "import pandas as pd\n",
    "from datetime import datetime\n",
    "import yfinance as yf"
   ]
  },
  {
   "cell_type": "markdown",
   "id": "8e0b9dd5-2f40-4133-b77d-223126ce404d",
   "metadata": {},
   "source": [
    "let's use some finance data collected from the Yahoo! finance API using [yfinance](https://github.com/ranaroussi/yfinance). for the linear regression example. We will compare Microsoft monthly returns (MSFT) vs. the market (SPY or S&P 500)."
   ]
  },
  {
   "cell_type": "code",
   "execution_count": 3,
   "id": "0e761197-c5b3-47f0-bb27-b6cf72ff31de",
   "metadata": {},
   "outputs": [
    {
     "name": "stdout",
     "output_type": "stream",
     "text": [
      "[*********************100%***********************]  2 of 2 completed\n"
     ]
    },
    {
     "data": {
      "text/html": [
       "<div>\n",
       "<style scoped>\n",
       "    .dataframe tbody tr th:only-of-type {\n",
       "        vertical-align: middle;\n",
       "    }\n",
       "\n",
       "    .dataframe tbody tr th {\n",
       "        vertical-align: top;\n",
       "    }\n",
       "\n",
       "    .dataframe thead tr th {\n",
       "        text-align: left;\n",
       "    }\n",
       "\n",
       "    .dataframe thead tr:last-of-type th {\n",
       "        text-align: right;\n",
       "    }\n",
       "</style>\n",
       "<table border=\"1\" class=\"dataframe\">\n",
       "  <thead>\n",
       "    <tr>\n",
       "      <th></th>\n",
       "      <th colspan=\"2\" halign=\"left\">Adj Close</th>\n",
       "      <th colspan=\"2\" halign=\"left\">Close</th>\n",
       "      <th colspan=\"2\" halign=\"left\">High</th>\n",
       "      <th colspan=\"2\" halign=\"left\">Low</th>\n",
       "      <th colspan=\"2\" halign=\"left\">Open</th>\n",
       "      <th colspan=\"2\" halign=\"left\">Volume</th>\n",
       "    </tr>\n",
       "    <tr>\n",
       "      <th></th>\n",
       "      <th>MSFT</th>\n",
       "      <th>SPY</th>\n",
       "      <th>MSFT</th>\n",
       "      <th>SPY</th>\n",
       "      <th>MSFT</th>\n",
       "      <th>SPY</th>\n",
       "      <th>MSFT</th>\n",
       "      <th>SPY</th>\n",
       "      <th>MSFT</th>\n",
       "      <th>SPY</th>\n",
       "      <th>MSFT</th>\n",
       "      <th>SPY</th>\n",
       "    </tr>\n",
       "    <tr>\n",
       "      <th>Date</th>\n",
       "      <th></th>\n",
       "      <th></th>\n",
       "      <th></th>\n",
       "      <th></th>\n",
       "      <th></th>\n",
       "      <th></th>\n",
       "      <th></th>\n",
       "      <th></th>\n",
       "      <th></th>\n",
       "      <th></th>\n",
       "      <th></th>\n",
       "      <th></th>\n",
       "    </tr>\n",
       "  </thead>\n",
       "  <tbody>\n",
       "    <tr>\n",
       "      <th>2010-01-01</th>\n",
       "      <td>21.563450</td>\n",
       "      <td>83.818016</td>\n",
       "      <td>28.180000</td>\n",
       "      <td>107.389999</td>\n",
       "      <td>31.240000</td>\n",
       "      <td>115.139999</td>\n",
       "      <td>27.660000</td>\n",
       "      <td>107.220001</td>\n",
       "      <td>30.620001</td>\n",
       "      <td>112.370003</td>\n",
       "      <td>1.359651e+09</td>\n",
       "      <td>3.706842e+09</td>\n",
       "    </tr>\n",
       "    <tr>\n",
       "      <th>2010-02-01</th>\n",
       "      <td>21.938400</td>\n",
       "      <td>86.432709</td>\n",
       "      <td>28.670000</td>\n",
       "      <td>110.739998</td>\n",
       "      <td>29.030001</td>\n",
       "      <td>111.580002</td>\n",
       "      <td>27.570000</td>\n",
       "      <td>104.580002</td>\n",
       "      <td>28.389999</td>\n",
       "      <td>108.150002</td>\n",
       "      <td>1.074643e+09</td>\n",
       "      <td>4.451912e+09</td>\n",
       "    </tr>\n",
       "    <tr>\n",
       "      <th>2010-03-01</th>\n",
       "      <td>22.517643</td>\n",
       "      <td>91.318642</td>\n",
       "      <td>29.290001</td>\n",
       "      <td>117.000000</td>\n",
       "      <td>30.570000</td>\n",
       "      <td>118.169998</td>\n",
       "      <td>28.240000</td>\n",
       "      <td>111.169998</td>\n",
       "      <td>28.770000</td>\n",
       "      <td>111.199997</td>\n",
       "      <td>1.110237e+09</td>\n",
       "      <td>3.899688e+09</td>\n",
       "    </tr>\n",
       "    <tr>\n",
       "      <th>2010-04-01</th>\n",
       "      <td>23.478624</td>\n",
       "      <td>93.113213</td>\n",
       "      <td>30.540001</td>\n",
       "      <td>118.809998</td>\n",
       "      <td>31.580000</td>\n",
       "      <td>122.120003</td>\n",
       "      <td>28.620001</td>\n",
       "      <td>117.099998</td>\n",
       "      <td>29.350000</td>\n",
       "      <td>117.800003</td>\n",
       "      <td>1.319030e+09</td>\n",
       "      <td>3.887090e+09</td>\n",
       "    </tr>\n",
       "    <tr>\n",
       "      <th>2010-05-01</th>\n",
       "      <td>19.834583</td>\n",
       "      <td>85.714935</td>\n",
       "      <td>25.799999</td>\n",
       "      <td>109.370003</td>\n",
       "      <td>31.059999</td>\n",
       "      <td>120.680000</td>\n",
       "      <td>24.559999</td>\n",
       "      <td>104.379997</td>\n",
       "      <td>30.670000</td>\n",
       "      <td>119.379997</td>\n",
       "      <td>1.720130e+09</td>\n",
       "      <td>7.413879e+09</td>\n",
       "    </tr>\n",
       "  </tbody>\n",
       "</table>\n",
       "</div>"
      ],
      "text/plain": [
       "            Adj Close                 Close                   High  \\\n",
       "                 MSFT        SPY       MSFT         SPY       MSFT   \n",
       "Date                                                                 \n",
       "2010-01-01  21.563450  83.818016  28.180000  107.389999  31.240000   \n",
       "2010-02-01  21.938400  86.432709  28.670000  110.739998  29.030001   \n",
       "2010-03-01  22.517643  91.318642  29.290001  117.000000  30.570000   \n",
       "2010-04-01  23.478624  93.113213  30.540001  118.809998  31.580000   \n",
       "2010-05-01  19.834583  85.714935  25.799999  109.370003  31.059999   \n",
       "\n",
       "                              Low                   Open              \\\n",
       "                   SPY       MSFT         SPY       MSFT         SPY   \n",
       "Date                                                                   \n",
       "2010-01-01  115.139999  27.660000  107.220001  30.620001  112.370003   \n",
       "2010-02-01  111.580002  27.570000  104.580002  28.389999  108.150002   \n",
       "2010-03-01  118.169998  28.240000  111.169998  28.770000  111.199997   \n",
       "2010-04-01  122.120003  28.620001  117.099998  29.350000  117.800003   \n",
       "2010-05-01  120.680000  24.559999  104.379997  30.670000  119.379997   \n",
       "\n",
       "                  Volume                \n",
       "                    MSFT           SPY  \n",
       "Date                                    \n",
       "2010-01-01  1.359651e+09  3.706842e+09  \n",
       "2010-02-01  1.074643e+09  4.451912e+09  \n",
       "2010-03-01  1.110237e+09  3.899688e+09  \n",
       "2010-04-01  1.319030e+09  3.887090e+09  \n",
       "2010-05-01  1.720130e+09  7.413879e+09  "
      ]
     },
     "execution_count": 3,
     "metadata": {},
     "output_type": "execute_result"
    }
   ],
   "source": [
    "start_date = datetime(2010, 1, 1)\n",
    "end_date = datetime(2021, 12, 31)\n",
    "\n",
    "stock_data = yf.download('SPY MSFT', \n",
    "                   interval = \"1mo\",\n",
    "                   start=start_date, \n",
    "                   end=end_date)\n",
    "\n",
    "stock_data.head()"
   ]
  },
  {
   "cell_type": "code",
   "execution_count": 4,
   "id": "ab414ef1-10c7-4a67-82f9-4c05959efd12",
   "metadata": {},
   "outputs": [
    {
     "data": {
      "text/plain": [
       "MultiIndex([('Adj Close', 'MSFT'),\n",
       "            ('Adj Close',  'SPY'),\n",
       "            (    'Close', 'MSFT'),\n",
       "            (    'Close',  'SPY'),\n",
       "            (     'High', 'MSFT'),\n",
       "            (     'High',  'SPY'),\n",
       "            (      'Low', 'MSFT'),\n",
       "            (      'Low',  'SPY'),\n",
       "            (     'Open', 'MSFT'),\n",
       "            (     'Open',  'SPY'),\n",
       "            (   'Volume', 'MSFT'),\n",
       "            (   'Volume',  'SPY')],\n",
       "           )"
      ]
     },
     "execution_count": 4,
     "metadata": {},
     "output_type": "execute_result"
    }
   ],
   "source": [
    "stock_data.columns"
   ]
  },
  {
   "cell_type": "code",
   "execution_count": 5,
   "id": "a77d6562-4751-4f78-b7d6-5701081afff0",
   "metadata": {},
   "outputs": [
    {
     "data": {
      "text/html": [
       "<div>\n",
       "<style scoped>\n",
       "    .dataframe tbody tr th:only-of-type {\n",
       "        vertical-align: middle;\n",
       "    }\n",
       "\n",
       "    .dataframe tbody tr th {\n",
       "        vertical-align: top;\n",
       "    }\n",
       "\n",
       "    .dataframe thead th {\n",
       "        text-align: right;\n",
       "    }\n",
       "</style>\n",
       "<table border=\"1\" class=\"dataframe\">\n",
       "  <thead>\n",
       "    <tr style=\"text-align: right;\">\n",
       "      <th></th>\n",
       "      <th>MSFT</th>\n",
       "      <th>SPY</th>\n",
       "    </tr>\n",
       "    <tr>\n",
       "      <th>Date</th>\n",
       "      <th></th>\n",
       "      <th></th>\n",
       "    </tr>\n",
       "  </thead>\n",
       "  <tbody>\n",
       "    <tr>\n",
       "      <th>2010-02-01</th>\n",
       "      <td>0.017388</td>\n",
       "      <td>0.031195</td>\n",
       "    </tr>\n",
       "    <tr>\n",
       "      <th>2010-03-01</th>\n",
       "      <td>0.026403</td>\n",
       "      <td>0.056529</td>\n",
       "    </tr>\n",
       "    <tr>\n",
       "      <th>2010-04-01</th>\n",
       "      <td>0.042677</td>\n",
       "      <td>0.019652</td>\n",
       "    </tr>\n",
       "    <tr>\n",
       "      <th>2010-05-01</th>\n",
       "      <td>-0.155207</td>\n",
       "      <td>-0.079455</td>\n",
       "    </tr>\n",
       "    <tr>\n",
       "      <th>2010-06-01</th>\n",
       "      <td>-0.104115</td>\n",
       "      <td>-0.056231</td>\n",
       "    </tr>\n",
       "  </tbody>\n",
       "</table>\n",
       "</div>"
      ],
      "text/plain": [
       "                MSFT       SPY\n",
       "Date                          \n",
       "2010-02-01  0.017388  0.031195\n",
       "2010-03-01  0.026403  0.056529\n",
       "2010-04-01  0.042677  0.019652\n",
       "2010-05-01 -0.155207 -0.079455\n",
       "2010-06-01 -0.104115 -0.056231"
      ]
     },
     "execution_count": 5,
     "metadata": {},
     "output_type": "execute_result"
    }
   ],
   "source": [
    "stock_data_adj_close = stock_data.iloc[:, stock_data.columns.get_level_values(0) == 'Adj Close'].pct_change().dropna()\n",
    "stock_data_adj_close.columns = ['MSFT','SPY']\n",
    "stock_data_adj_close.head()\n"
   ]
  },
  {
   "cell_type": "code",
   "execution_count": 6,
   "id": "1ae6894e-a7be-4209-8215-0847fbe0c183",
   "metadata": {},
   "outputs": [],
   "source": [
    "from seaborn import scatterplot"
   ]
  },
  {
   "cell_type": "code",
   "execution_count": 7,
   "id": "1e1ed7a3-8d36-45d2-991e-e58937237e78",
   "metadata": {},
   "outputs": [
    {
     "data": {
      "text/plain": [
       "<AxesSubplot:xlabel='MSFT', ylabel='SPY'>"
      ]
     },
     "execution_count": 7,
     "metadata": {},
     "output_type": "execute_result"
    },
    {
     "data": {
      "image/png": "[encoded data removed]",
      "text/plain": [
       "<Figure size 432x288 with 1 Axes>"
      ]
     },
     "metadata": {
      "needs_background": "light"
     },
     "output_type": "display_data"
    }
   ],
   "source": [
    "scatterplot(data = stock_data_adj_close, x = 'MSFT', y = 'SPY')"
   ]
  },
  {
   "cell_type": "markdown",
   "id": "d5c244ab-b2ac-4436-b56d-c3c9bbb7ec3d",
   "metadata": {},
   "source": [
    "Let's look at creating our linear regession model using closed form [OLS model](https://towardsdatascience.com/manually-computing-coefficients-for-an-ols-regression-using-python-50d8e413de)"
   ]
  },
  {
   "cell_type": "code",
   "execution_count": 8,
   "id": "7dd9a241-0523-4a4a-b9b7-37eedcee4b92",
   "metadata": {},
   "outputs": [],
   "source": [
    "x = stock_data_adj_close.SPY.values\n",
    "\n",
    "ones = np.ones(len(x))\n",
    "\n",
    "x = np.vstack((ones,x))\n",
    "\n",
    "x = x.T\n",
    "\n",
    "y = stock_data_adj_close.MSFT.values"
   ]
  },
  {
   "cell_type": "code",
   "execution_count": 9,
   "id": "d2dc73af-c8c7-4bb4-b7d9-15380b066639",
   "metadata": {},
   "outputs": [
    {
     "name": "stdout",
     "output_type": "stream",
     "text": [
      "[0.00867069 0.96868159]\n"
     ]
    }
   ],
   "source": [
    "#closed form calculation\n",
    "betas = np.linalg.inv(x.T @ x) @ x.T @ y\n",
    "print(betas)"
   ]
  },
  {
   "cell_type": "markdown",
   "id": "bc49f98d-f8ca-4e25-9649-92307a59a26d",
   "metadata": {},
   "source": [
    "Now lets do the same thing but with [**gradient descent.**](https://towardsdatascience.com/linear-regression-using-gradient-descent-97a6c8700931)"
   ]
  },
  {
   "cell_type": "code",
   "execution_count": 10,
   "id": "b01efd59-1819-4e4b-93c7-df01f20a4be0",
   "metadata": {},
   "outputs": [],
   "source": [
    "x = x[:,1] #remove the ones column for this part"
   ]
  },
  {
   "cell_type": "code",
   "execution_count": 15,
   "id": "788a2754-fff7-4afc-8d0d-56e781c6c80b",
   "metadata": {},
   "outputs": [
    {
     "name": "stdout",
     "output_type": "stream",
     "text": [
      "0.008670694372711278 0.9686815243125058\n"
     ]
    }
   ],
   "source": [
    "# initalize the parameters at 0 (not always a good idea!)\n",
    "b_1 = 0.01\n",
    "b_0 = 0.01\n",
    "\n",
    "alpha = 0.1  # The learning Rate\n",
    "epochs = 50000  # The number of descent iterations\n",
    "\n",
    "n = float(len(x)) # Number of elements in x\n",
    "\n",
    "# Gradient Descent \n",
    "for i in range(epochs): \n",
    "    y_pred = b_1*x + b_0  # The current predicted value of y\n",
    "    D_b_1 = (-2/n) * sum(x * (y - y_pred))  # Derivative wrt b_1\n",
    "    D_b_0 = (-2/n) * sum(y - y_pred)  # Derivative wrt b_0\n",
    "    b_1 = b_1 - alpha * D_b_1  # Update b_1\n",
    "    b_0 = b_0 - alpha * D_b_0  # Update b_0\n",
    "    \n",
    "print (b_0, b_1)"
   ]
  },
  {
   "cell_type": "markdown",
   "id": "78c3d241-ed1d-4542-a2a3-cf599d8af669",
   "metadata": {},
   "source": [
    "Now let's see how this is done using sklearn"
   ]
  },
  {
   "cell_type": "code",
   "execution_count": 16,
   "id": "8fd8e9d6-47df-4b0e-93af-1449ce7ddd38",
   "metadata": {},
   "outputs": [],
   "source": [
    "from sklearn.linear_model import LinearRegression\n",
    "from matplotlib import pyplot as plt"
   ]
  },
  {
   "cell_type": "code",
   "execution_count": 17,
   "id": "91d506e3-3a9e-4dd0-96b6-4cdcff2d3edb",
   "metadata": {},
   "outputs": [
    {
     "name": "stdout",
     "output_type": "stream",
     "text": [
      "0.4151053764195878\n"
     ]
    }
   ],
   "source": [
    "#keep in mind we would need to split this data. However, this data is timeseries so we can only test it by using it to predict forward.\n",
    "regr = LinearRegression()\n",
    "x = x.reshape(-1, 1) #shape needed for sklearn\n",
    "regr.fit(x, y)\n",
    "print(regr.score(x, y)) #gives us r^2"
   ]
  },
  {
   "cell_type": "code",
   "execution_count": 18,
   "id": "079888bc-6ccf-44cc-acbd-8b1ed9e9f519",
   "metadata": {},
   "outputs": [
    {
     "data": {
      "image/png": "[encoded data removed]",
      "text/plain": [
       "<Figure size 432x288 with 1 Axes>"
      ]
     },
     "metadata": {
      "needs_background": "light"
     },
     "output_type": "display_data"
    }
   ],
   "source": [
    "plt.scatter(x, y,color='b')\n",
    "plt.plot(x, regr.predict(x),color='k')\n",
    "\n",
    "plt.show()"
   ]
  },
  {
   "cell_type": "code",
   "execution_count": 19,
   "id": "d3976bc3-3293-4091-b63d-a1b17640e63d",
   "metadata": {},
   "outputs": [
    {
     "name": "stdout",
     "output_type": "stream",
     "text": [
      "[*********************100%***********************]  2 of 2 completed\n"
     ]
    }
   ],
   "source": [
    "#predict going forward\n",
    "start_date = datetime(2022, 1, 1)\n",
    "end_date = datetime(2022, 12, 31)\n",
    "\n",
    "stock_data = yf.download('MSFT SPY', \n",
    "                   interval = \"1mo\",\n",
    "                   start=start_date, \n",
    "                   end=end_date)\n",
    "\n",
    "stock_data_adj_close = stock_data.iloc[:, stock_data.columns.get_level_values(0) == 'Adj Close'].pct_change().dropna()\n",
    "\n",
    "stock_data_adj_close.columns = ['MSFT','SPY']\n",
    "\n",
    "x = stock_data_adj_close.SPY.values\n",
    "x = x.reshape(-1,1)\n",
    "\n",
    "y = stock_data_adj_close.MSFT.values"
   ]
  },
  {
   "cell_type": "code",
   "execution_count": 20,
   "id": "9d584ba1-c779-4bf1-8219-04b4482d8965",
   "metadata": {},
   "outputs": [
    {
     "data": {
      "text/plain": [
       "0.6878736767442797"
      ]
     },
     "execution_count": 20,
     "metadata": {},
     "output_type": "execute_result"
    }
   ],
   "source": [
    "from sklearn.metrics import r2_score\n",
    "\n",
    "r2_score(y, regr.predict(x))"
   ]
  },
  {
   "cell_type": "code",
   "execution_count": 21,
   "id": "6730bf2f-807f-4a38-9a79-ac7a10150c63",
   "metadata": {},
   "outputs": [
    {
     "data": {
      "image/png": "[encoded data removed]",
      "text/plain": [
       "<Figure size 432x288 with 1 Axes>"
      ]
     },
     "metadata": {
      "needs_background": "light"
     },
     "output_type": "display_data"
    }
   ],
   "source": [
    "plt.scatter(x, y, color='b')\n",
    "\n",
    "plt.show()"
   ]
  },
  {
   "cell_type": "code",
   "execution_count": null,
   "id": "6004686c-3c56-4d10-b0aa-5728138596da",
   "metadata": {},
   "outputs": [],
   "source": []
  }
 ],
 "metadata": {
  "kernelspec": {
   "display_name": "Python 3 (ipykernel)",
   "language": "python",
   "name": "python3"
  },
  "language_info": {
   "codemirror_mode": {
    "name": "ipython",
    "version": 3
   },
   "file_extension": ".py",
   "mimetype": "text/x-python",
   "name": "python",
   "nbconvert_exporter": "python",
   "pygments_lexer": "ipython3",
   "version": "3.10.5"
  }
 },
 "nbformat": 4,
 "nbformat_minor": 5
}
