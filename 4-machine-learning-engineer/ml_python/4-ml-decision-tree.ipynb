{
 "cells": [
  {
   "cell_type": "markdown",
   "id": "70382b44-bf26-47d8-ab8f-92ebd6fa8fcf",
   "metadata": {},
   "source": [
    "# Machine Learning with Python - Decision Tree\n",
    "The basicis of classification decisioin trees\n",
    "\n",
    "### sklearn\n",
    "The most popular framework for fiting popular small data models"
   ]
  },
  {
   "cell_type": "code",
   "execution_count": null,
   "id": "768c75c5-f0cc-4b3b-8e15-9f1a185782a7",
   "metadata": {},
   "outputs": [],
   "source": [
    "import pandas as pd\n",
    "import numpy as np\n",
    "import matplotlib.pyplot as plt\n",
    "from sklearn.model_selection import train_test_split\n",
    "from sklearn.preprocessing import StandardScaler"
   ]
  },
  {
   "cell_type": "code",
   "execution_count": null,
   "id": "f822b50b-439d-4fd3-b97c-46a30ef7af0f",
   "metadata": {},
   "outputs": [],
   "source": [
    "#read in our titanic data\n",
    "df_og = pd.read_csv('data/train.csv') \n",
    "\n",
    "#split the data set into train and test sets remove any non-numeric columns for the example\n",
    "X, y = df_og.drop(columns=['PassengerId','Name','Ticket','Cabin','Embarked','Survived']), df_og['Survived']\n",
    "X = X.replace({'male': 0, 'female': 1}).fillna(0)\n",
    "\n",
    "X_train, X_test, y_train, y_test = train_test_split(X, y, test_size=0.33, random_state=42)\n",
    "\n",
    "y_train = y_train.astype(int)\n",
    "y_test = y_test.astype(int)\n",
    "\n",
    "sc = StandardScaler()\n",
    "X_train = sc.fit_transform(X_train)\n",
    "X_test = sc.transform(X_test)\n",
    "\n",
    "print('size of X_train') \n",
    "print(X_train.shape)\n",
    "print('size of X_test')\n",
    "print(X_test.shape)\n",
    "print('size of y_train') \n",
    "print(y_train.shape)\n",
    "print('size of y_test')\n",
    "print(y_test.shape)"
   ]
  },
  {
   "cell_type": "code",
   "execution_count": null,
   "id": "65b1da00-f2de-442e-aa3d-b84c4802e101",
   "metadata": {},
   "outputs": [],
   "source": [
    "print(X.columns)"
   ]
  },
  {
   "cell_type": "code",
   "execution_count": null,
   "id": "d54c4a1e-fc48-446e-bb55-11cb81768319",
   "metadata": {},
   "outputs": [],
   "source": [
    "from sklearn.tree import DecisionTreeClassifier\n",
    "from sklearn import tree\n",
    "from sklearn.metrics import confusion_matrix, accuracy_score"
   ]
  },
  {
   "cell_type": "code",
   "execution_count": null,
   "id": "40646c1c-747c-4df4-8c59-d5eaeba7537a",
   "metadata": {},
   "outputs": [],
   "source": [
    "dt_clf = DecisionTreeClassifier()\n",
    "dt_clf = dt_clf.fit(X_train, y_train)"
   ]
  },
  {
   "cell_type": "code",
   "execution_count": null,
   "id": "a7e7aa95-87ef-4fbf-9b2e-fa79c3bde87f",
   "metadata": {},
   "outputs": [],
   "source": [
    "text_representation = tree.export_text(dt_clf)\n",
    "print(text_representation)"
   ]
  },
  {
   "cell_type": "code",
   "execution_count": null,
   "id": "b46f10b9-048f-4beb-a541-c481bca216e0",
   "metadata": {},
   "outputs": [],
   "source": [
    "y_pred = dt_clf.predict(X_train)\n",
    "\n",
    "accuracy_score(y_train, y_pred)"
   ]
  },
  {
   "cell_type": "code",
   "execution_count": null,
   "id": "30550dc2-9878-4190-9a3a-de1aed01748b",
   "metadata": {},
   "outputs": [],
   "source": [
    "y_pred = dt_clf.predict(X_test)\n",
    "\n",
    "accuracy_score(y_test, y_pred)"
   ]
  },
  {
   "cell_type": "code",
   "execution_count": null,
   "id": "af9e4431-be96-4325-9604-d3169182bf6d",
   "metadata": {},
   "outputs": [],
   "source": []
  }
 ],
 "metadata": {
  "kernelspec": {
   "display_name": "Python 3 (ipykernel)",
   "language": "python",
   "name": "python3"
  },
  "language_info": {
   "codemirror_mode": {
    "name": "ipython",
    "version": 3
   },
   "file_extension": ".py",
   "mimetype": "text/x-python",
   "name": "python",
   "nbconvert_exporter": "python",
   "pygments_lexer": "ipython3",
   "version": "3.10.5"
  }
 },
 "nbformat": 4,
 "nbformat_minor": 5
}
