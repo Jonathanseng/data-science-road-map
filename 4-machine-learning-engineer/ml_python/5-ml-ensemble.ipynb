{
 "cells": [
  {
   "cell_type": "markdown",
   "id": "197ad173-2d74-486e-b3fc-5059bb571ee8",
   "metadata": {},
   "source": [
    "# Machine Learning with Python - Ensemble Modeling\n",
    "The basicis of classification with usefule ensemble models\n",
    "\n",
    "### sklearn, xgboost\n",
    "The most popular frameworks for fiting ensemble models"
   ]
  },
  {
   "cell_type": "code",
   "execution_count": null,
   "id": "07d05bc9-874f-4d98-8224-9ca9881d1995",
   "metadata": {},
   "outputs": [],
   "source": [
    "import pandas as pd\n",
    "import numpy as np\n",
    "import matplotlib.pyplot as plt\n",
    "from sklearn.model_selection import train_test_split\n",
    "from sklearn.preprocessing import StandardScaler"
   ]
  },
  {
   "cell_type": "code",
   "execution_count": null,
   "id": "cf599d1c-7eef-4134-bb51-22432fb4ec3a",
   "metadata": {},
   "outputs": [],
   "source": [
    "#read in our titanic data\n",
    "df_og = pd.read_csv('data/train.csv') \n",
    "\n",
    "#split the data set into train and test sets remove any non-numeric columns for the example\n",
    "X, y = df_og.drop(columns=['PassengerId','Name','Ticket','Cabin','Embarked','Survived']), df_og['Survived']\n",
    "X = X.replace({'male': 0, 'female': 1}).fillna(0)\n",
    "\n",
    "X_train, X_test, y_train, y_test = train_test_split(X, y, test_size=0.33, random_state=42)\n",
    "\n",
    "y_train = y_train.astype(int)\n",
    "y_test = y_test.astype(int)\n",
    "\n",
    "sc = StandardScaler()\n",
    "X_train = sc.fit_transform(X_train)\n",
    "X_test = sc.transform(X_test)\n",
    "\n",
    "print('size of X_train') \n",
    "print(X_train.shape)\n",
    "print('size of X_test')\n",
    "print(X_test.shape)\n",
    "print('size of y_train') \n",
    "print(y_train.shape)\n",
    "print('size of y_test')\n",
    "print(y_test.shape)"
   ]
  },
  {
   "cell_type": "code",
   "execution_count": null,
   "id": "95bd445a-5895-4e25-8ddd-c378bfa34f0a",
   "metadata": {},
   "outputs": [],
   "source": [
    "!pip install xgboost"
   ]
  },
  {
   "cell_type": "code",
   "execution_count": null,
   "id": "4a15ecd0-14c7-4020-b644-b8dc1fd61f63",
   "metadata": {},
   "outputs": [],
   "source": [
    "from sklearn.ensemble import (RandomForestClassifier,\n",
    "                              AdaBoostClassifier,\n",
    "                              GradientBoostingClassifier)\n",
    "from xgboost import XGBClassifier\n",
    "from sklearn.metrics import confusion_matrix, accuracy_score"
   ]
  },
  {
   "cell_type": "markdown",
   "id": "ab9da66f-1d20-425a-9e23-ca4ec16b5cb8",
   "metadata": {},
   "source": [
    "## Random Forest"
   ]
  },
  {
   "cell_type": "code",
   "execution_count": null,
   "id": "5a3aa34c-1d85-4cdd-bb65-3cd1d0155dbf",
   "metadata": {},
   "outputs": [],
   "source": [
    "rf = RandomForestClassifier(n_estimators=500)\n",
    "\n",
    "rf.fit(X_train, y_train)\n",
    "\n",
    "y_pred = rf.predict(X_train)\n",
    "\n",
    "accuracy_score(y_train, y_pred)"
   ]
  },
  {
   "cell_type": "code",
   "execution_count": null,
   "id": "e36bf3ca-8e34-4af7-8635-3389234a78ab",
   "metadata": {},
   "outputs": [],
   "source": [
    "y_pred = rf.predict(X_test)\n",
    "\n",
    "accuracy_score(y_test, y_pred)"
   ]
  },
  {
   "cell_type": "markdown",
   "id": "e09a2da7-7f51-4850-a5be-038aeb2c952b",
   "metadata": {},
   "source": [
    "## Adaboost"
   ]
  },
  {
   "cell_type": "code",
   "execution_count": null,
   "id": "4f408598-80ec-4332-b347-e0b488f765a9",
   "metadata": {},
   "outputs": [],
   "source": [
    "ada = AdaBoostClassifier(n_estimators=500)\n",
    "\n",
    "ada.fit(X_train, y_train)\n",
    "\n",
    "y_pred = ada.predict(X_train)\n",
    "\n",
    "accuracy_score(y_train, y_pred)"
   ]
  },
  {
   "cell_type": "code",
   "execution_count": null,
   "id": "62f57534-e092-44b8-856b-f42a973d8782",
   "metadata": {},
   "outputs": [],
   "source": [
    "y_pred = ada.predict(X_test)\n",
    "\n",
    "accuracy_score(y_test, y_pred)"
   ]
  },
  {
   "cell_type": "markdown",
   "id": "ef34055f-cc29-4c60-b323-ba75f5064658",
   "metadata": {},
   "source": [
    "## Gradient Boosted Tree"
   ]
  },
  {
   "cell_type": "code",
   "execution_count": null,
   "id": "5ee176a6-3afd-44d3-bc12-721b40fb02a1",
   "metadata": {},
   "outputs": [],
   "source": [
    "gb = GradientBoostingClassifier(n_estimators=500)\n",
    "\n",
    "gb.fit(X_train, y_train)\n",
    "\n",
    "y_pred = gb.predict(X_train)\n",
    "\n",
    "accuracy_score(y_train, y_pred)"
   ]
  },
  {
   "cell_type": "code",
   "execution_count": null,
   "id": "086e49c6-afe8-40e4-82aa-0a2459da1137",
   "metadata": {},
   "outputs": [],
   "source": [
    "y_pred = gb.predict(X_test)\n",
    "\n",
    "accuracy_score(y_test, y_pred)"
   ]
  },
  {
   "cell_type": "markdown",
   "id": "367de15c-0c40-40c0-821c-a1c2fd5f3bbd",
   "metadata": {},
   "source": [
    "## XGBoost"
   ]
  },
  {
   "cell_type": "code",
   "execution_count": null,
   "id": "701c4cd3-5565-418b-86d1-e59b8d2d7cf5",
   "metadata": {},
   "outputs": [],
   "source": [
    "xgb = XGBClassifier(n_estimators=2000)"
   ]
  },
  {
   "cell_type": "code",
   "execution_count": null,
   "id": "2122e590-56c9-45f3-ada6-19cb1c0ad29e",
   "metadata": {},
   "outputs": [],
   "source": [
    "xgb.fit(X_train, y_train)\n",
    "\n",
    "y_pred = xgb.predict(X_train)\n",
    "\n",
    "accuracy_score(y_train, y_pred)"
   ]
  },
  {
   "cell_type": "code",
   "execution_count": null,
   "id": "58c7d4f8-067c-45bc-bdf2-4ad133aea23c",
   "metadata": {},
   "outputs": [],
   "source": [
    "y_pred = xgb.predict(X_test)\n",
    "\n",
    "accuracy_score(y_test, y_pred)"
   ]
  },
  {
   "cell_type": "markdown",
   "id": "6ac4498b-a6cb-4dd5-ae2d-c5769f13d893",
   "metadata": {},
   "source": [
    "Other options include **LightGBM** and sklearns **HistGradientBoostingClassifier**"
   ]
  },
  {
   "cell_type": "code",
   "execution_count": null,
   "id": "77ed9a04-975a-461c-8c94-6d96759f812d",
   "metadata": {},
   "outputs": [],
   "source": []
  }
 ],
 "metadata": {
  "kernelspec": {
   "display_name": "Python 3 (ipykernel)",
   "language": "python",
   "name": "python3"
  },
  "language_info": {
   "codemirror_mode": {
    "name": "ipython",
    "version": 3
   },
   "file_extension": ".py",
   "mimetype": "text/x-python",
   "name": "python",
   "nbconvert_exporter": "python",
   "pygments_lexer": "ipython3",
   "version": "3.10.5"
  }
 },
 "nbformat": 4,
 "nbformat_minor": 5
}
